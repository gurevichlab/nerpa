{
 "cells": [
  {
   "cell_type": "code",
   "id": "initial_id",
   "metadata": {
    "collapsed": true,
    "ExecuteTime": {
     "end_time": "2025-03-25T13:51:26.297306Z",
     "start_time": "2025-03-25T13:51:26.286420Z"
    }
   },
   "source": [
    "from pathlib import Path\n",
    "paras_results = Path('/home/ilianolhin/git/nerpa2/paras/antismash7.1_nrps_paras34/BGC0000034/run_paras_results.txt')\n",
    "header, *rows = paras_results.read_text().splitlines()\n",
    "paras_substrates = []\n",
    "for col, val in zip(header.split('\\t'), rows[0].split('\\t')):\n",
    "    if col.startswith('substrate'):\n",
    "        paras_substrates.append(val)\n",
    "\n",
    "paras_substrates.sort()\n",
    "print(f'Total substrates: {len(paras_substrates)}')\n",
    "n = 5\n",
    "print(f'First {n} substrates: ')\n",
    "print('\\n'.join(paras_substrates[:n]))\n"
   ],
   "outputs": [
    {
     "name": "stdout",
     "output_type": "stream",
     "text": [
      "Total substrates: 34\n",
      "First 5 substrates: \n",
      "2,3-dihydroxybenzoic acid\n",
      "2,4-diaminobutyric acid\n",
      "2-aminoadipic acid\n",
      "2-aminoisobutyric acid\n",
      "3,5-dihydroxyphenylglycine\n"
     ]
    }
   ],
   "execution_count": 1
  },
  {
   "metadata": {
    "ExecuteTime": {
     "end_time": "2025-03-25T13:51:26.337758Z",
     "start_time": "2025-03-25T13:51:26.331481Z"
    }
   },
   "cell_type": "code",
   "source": [
    "from src.antismash_parsing.antismash_name_mappings import KNOWN_SUBSTRATES, SubstrateName\n",
    "\n",
    "paras_names_short = set(substrate.short for substrate in KNOWN_SUBSTRATES\n",
    "                        if substrate.long in paras_substrates)\n",
    "\n",
    "print(f'Total matched substrates: {len(paras_names_short)}')"
   ],
   "id": "2aa2a2d30034a364",
   "outputs": [
    {
     "name": "stdout",
     "output_type": "stream",
     "text": [
      "Total matched substrates: 34\n"
     ]
    }
   ],
   "execution_count": 2
  },
  {
   "metadata": {
    "ExecuteTime": {
     "end_time": "2025-03-25T13:51:26.786977Z",
     "start_time": "2025-03-25T13:51:26.465069Z"
    }
   },
   "cell_type": "code",
   "source": [
    "import pandas as pd\n",
    "monomer_names_table = Path('/home/ilianolhin/git/nerpa2/data/monomer_names_table.tsv')\n",
    "monomer_names_df = pd.read_csv(monomer_names_table, sep='\\t')\n",
    "\n",
    "paras_short_to_core = {}\n",
    "for row in monomer_names_df.iterrows():\n",
    "    if row[1].as_short in paras_names_short:\n",
    "        paras_short_to_core[row[1].as_short] = row[1].core\n",
    "\n",
    "conversions = [(as_short, core)\n",
    "               for as_short, core in paras_short_to_core.items()\n",
    "               if as_short != core]\n",
    "print(f'Conversions: {conversions}')\n",
    "\n",
    "paras_core_residues = sorted(set(paras_short_to_core.values()))\n",
    "print(f'Total paras core residues: {len(paras_core_residues)}')\n",
    "print(paras_core_residues)\n"
   ],
   "id": "c9fec21b08c1d26",
   "outputs": [
    {
     "name": "stdout",
     "output_type": "stream",
     "text": [
      "Conversions: [('D-Ala', 'Ala'), ('2,3-dohBza', 'Bza'), ('fohOrn', 'Orn'), ('ohOrn', 'Orn'), ('R-ohTyr', 'Tyr')]\n",
      "Total paras core residues: 30\n",
      "['Aad', 'Aib', 'Ala', 'Ant', 'Arg', 'Asn', 'Asp', 'Bza', 'Cys', 'Dab', 'Gln', 'Glu', 'Gly', 'His', 'Hpg', 'Ile', 'Leu', 'Lys', 'Orn', 'Phe', 'Pip', 'Pro', 'Sal', 'Ser', 'Thr', 'Trp', 'Tyr', 'Val', 'bAla', 'dHpg']\n"
     ]
    }
   ],
   "execution_count": 3
  },
  {
   "metadata": {
    "ExecuteTime": {
     "end_time": "2025-03-25T13:51:26.797023Z",
     "start_time": "2025-03-25T13:51:26.794880Z"
    }
   },
   "cell_type": "code",
   "source": "",
   "id": "bcee18536896d214",
   "outputs": [],
   "execution_count": null
  }
 ],
 "metadata": {
  "kernelspec": {
   "display_name": "Python 3",
   "language": "python",
   "name": "python3"
  },
  "language_info": {
   "codemirror_mode": {
    "name": "ipython",
    "version": 2
   },
   "file_extension": ".py",
   "mimetype": "text/x-python",
   "name": "python",
   "nbconvert_exporter": "python",
   "pygments_lexer": "ipython2",
   "version": "2.7.6"
  }
 },
 "nbformat": 4,
 "nbformat_minor": 5
}
