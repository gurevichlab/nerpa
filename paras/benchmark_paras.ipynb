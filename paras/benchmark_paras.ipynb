{
 "cells": [
  {
   "cell_type": "code",
   "id": "initial_id",
   "metadata": {
    "collapsed": true,
    "ExecuteTime": {
     "end_time": "2025-02-27T12:06:54.319938Z",
     "start_time": "2025-02-27T12:06:54.294698Z"
    }
   },
   "source": [
    "from pathlib import Path\n",
    "import yaml\n",
    "import ipynbname\n",
    "\n",
    "nerpa_dir = Path(ipynbname.path()).parent.parent\n",
    "nerpa_config = yaml.safe_load((nerpa_dir / 'configs/config.yaml').open())\n",
    "print(nerpa_config)\n"
   ],
   "outputs": [
    {
     "name": "stdout",
     "output_type": "stream",
     "text": [
      "{'antismash_config': 'configs/antismash_config.yaml', 'antismash_processing_config': 'configs/antismash_processing_config.yaml', 'specificity_prediction_config': 'configs/specificity_prediction_config.yaml', 'rban_config': 'configs/rban_config.yaml', 'rban_processing_config': 'configs/rban_processing_config.yaml', 'hmm_scoring_config': 'configs/hmm_scoring_config.yaml', 'matching_config': 'configs/matching_config.yaml', 'cpp_matcher_exec': 'build/hmm_nrp_matcher', 'monomers_config': 'configs/monomers_config.yaml', 'output_config': 'configs/output_config.yaml', 'default_results_root_dirname': 'nerpa_results'}\n"
     ]
    }
   ],
   "execution_count": 1
  },
  {
   "metadata": {
    "ExecuteTime": {
     "end_time": "2025-02-27T12:06:54.540950Z",
     "start_time": "2025-02-27T12:06:54.344843Z"
    }
   },
   "cell_type": "code",
   "source": [
    "from src.monomer_names_helper import MonomerNamesHelper\n",
    "import pandas as pd\n",
    "\n",
    "# 1. Load monomer names helper\n",
    "monomers_cfg = yaml.safe_load((nerpa_dir / nerpa_config['monomers_config']).open('r'))\n",
    "monomers_table_tsv = nerpa_dir / monomers_cfg['monomer_names_table']\n",
    "monomer_names_helper = MonomerNamesHelper(pd.read_csv(monomers_table_tsv, sep='\\t'),\n",
    "                                          monomers_cfg['supported_residues'],\n",
    "                                          monomers_cfg['pks_names'])\n"
   ],
   "id": "e09208a8d6023508",
   "outputs": [],
   "execution_count": 2
  },
  {
   "metadata": {
    "ExecuteTime": {
     "end_time": "2025-02-27T12:06:54.618041Z",
     "start_time": "2025-02-27T12:06:54.607672Z"
    }
   },
   "cell_type": "code",
   "source": [
    "from src.antismash_parsing.antismash_name_mappings import KNOWN_SUBSTRATES\n",
    "from src.monomer_names_helper import MonomerNamesHelper, MonomerResidue\n",
    "from typing import Dict\n",
    "from src.data_types import LogProb\n",
    "from math import log\n",
    "\n",
    "\n",
    "def convert_as7_specificities_to_nerpa(residue_score: Dict[str, float],  # as_long -> probability\n",
    "                                       monomer_names_helper: MonomerNamesHelper) -> Dict[MonomerResidue, LogProb]:\n",
    "    def paras_name_core(paras_name: str) -> str:\n",
    "        match paras_name:\n",
    "            case '3-(2-nitrocyclopropylalanine)': return 'alanine'\n",
    "            case '3S-methylaspartic acid branched': return '3S-methylaspartic acid'\n",
    "            case _: return paras_name.split('-')[-1]\n",
    "\n",
    "\n",
    "    nerpa_residue_score = {residue: -float('inf')\n",
    "                           for residue in monomer_names_helper.supported_residues}\n",
    "    for paras_name, prob in residue_score.items():\n",
    "        try:\n",
    "            as_short = next(substrate.short\n",
    "                            for substrate in KNOWN_SUBSTRATES\n",
    "                            if paras_name_core(paras_name) in substrate.long)\n",
    "        except StopIteration:\n",
    "            print(f'Unknown substrate: {paras_name}')\n",
    "            raise\n",
    "        monomer_residue = monomer_names_helper.parsed_name(as_short, name_format='antismash').residue\n",
    "        if prob > 1e-7 and log(prob) > nerpa_residue_score[monomer_residue]:\n",
    "            nerpa_residue_score[monomer_residue] = log(prob)\n",
    "    return nerpa_residue_score\n"
   ],
   "id": "cd07f713d270fccb",
   "outputs": [],
   "execution_count": 3
  },
  {
   "metadata": {
    "ExecuteTime": {
     "end_time": "2025-02-27T12:07:53.863607Z",
     "start_time": "2025-02-27T12:06:54.656686Z"
    }
   },
   "cell_type": "code",
   "source": [
    "from src.training.hmm_infer_emission_params import BGC_Module_Info\n",
    "from typing import Dict, Tuple\n",
    "from collections import defaultdict\n",
    "import re\n",
    "import yaml\n",
    "\n",
    "def parse_aa34_fasta(file_path: Path) -> Dict[Tuple[str, int], str]:\n",
    "    if not file_path.exists():\n",
    "        bgc_id = file_path.parent.name\n",
    "        print(f'BGC {bgc_id} has no aa34 fasta')\n",
    "        return defaultdict(lambda: '')\n",
    "\n",
    "    aa34_for_adomain = {}\n",
    "    with open(file_path, 'r') as file:\n",
    "        identifier, domain = None, None\n",
    "        sequence = \"\"\n",
    "\n",
    "        for line in file:\n",
    "            line = line.strip()\n",
    "            if line.startswith('>'):\n",
    "                if identifier and domain:\n",
    "                    aa34_for_adomain[(identifier, domain)] = sequence\n",
    "\n",
    "                match = re.match(r\">(\\S+)\\|domain_(\\d+)\\|\", line)\n",
    "                if match:\n",
    "                    identifier, domain = match.groups()\n",
    "                    domain = int(domain)\n",
    "                    sequence = \"\"\n",
    "            else:\n",
    "                sequence += line\n",
    "\n",
    "        if identifier and domain:\n",
    "            aa34_for_adomain[(identifier, domain)] = sequence\n",
    "\n",
    "    return aa34_for_adomain\n",
    "\n",
    "\n",
    "def parse_adomain_specificities(file_path: Path) -> Dict[Tuple[str, int], Dict[str, float]]:\n",
    "    adomain_specificities = {}\n",
    "\n",
    "    with file_path.open(\"r\") as file:\n",
    "        headers = file.readline().strip().split(\"\\t\")  # Skip header row\n",
    "\n",
    "        for line in file:\n",
    "            parts = line.strip().split(\"\\t\")\n",
    "            identifier, domain_num = parts[0].split(\"|\")[0], int(parts[0].split(\"|\")[1].split(\"_\")[1])\n",
    "\n",
    "            substrate_confidences = {\n",
    "                parts[i]: float(parts[i + 1])\n",
    "                for i in range(1, len(parts), 2)\n",
    "                if i + 1 < len(parts)\n",
    "            }\n",
    "\n",
    "            adomain_specificities[(identifier, domain_num)] = substrate_confidences\n",
    "\n",
    "    return adomain_specificities\n",
    "\n",
    "\n",
    "paras_results_dir = nerpa_dir / 'paras/antismash7.1_nrps'\n",
    "paras_predictions = []\n",
    "for paras_pred_for_bgc in paras_results_dir.iterdir():\n",
    "    # get signatures\n",
    "    genome_id = paras_pred_for_bgc.name\n",
    "    aa34_for_adomain = parse_aa34_fasta(paras_pred_for_bgc / 'run_extended_signatures.fasta')\n",
    "    adomain_specificities = parse_adomain_specificities(paras_pred_for_bgc / 'run_paras_results.txt')\n",
    "    for gene_id, adomain_idx in aa34_for_adomain.keys():\n",
    "        aa34 = aa34_for_adomain[(gene_id, adomain_idx)]\n",
    "        residue_score = adomain_specificities[(gene_id, adomain_idx)]\n",
    "        residue_score = convert_as7_specificities_to_nerpa(residue_score, monomer_names_helper)\n",
    "        bgc_module_info = BGC_Module_Info(genome_id,\n",
    "                                          gene_id,\n",
    "                                          adomain_idx - 1,  # to 0-based indexing\n",
    "                                          aa34,\n",
    "                                          residue_score).to_dict()\n",
    "        paras_predictions.append(bgc_module_info)\n",
    "\n",
    "print(paras_predictions[:2])\n",
    "yaml.dump(paras_predictions, (nerpa_dir / 'paras/paras_predictions.yaml').open('w'))\n",
    "\n",
    "paras_supported_residues = list(set.union(*(set(paras_prediction['residue_score'].keys())\n",
    "                                       for paras_prediction in paras_predictions)))\n",
    "print(paras_supported_residues)\n",
    "yaml.dump(paras_supported_residues, (nerpa_dir / 'paras/paras_supported_residues.yaml').open('w'))\n"
   ],
   "id": "d2d59071acf970e8",
   "outputs": [
    {
     "name": "stdout",
     "output_type": "stream",
     "text": [
      "BGC BGC0000295 has no aa34 fasta\n",
      "BGC BGC0002609 has no aa34 fasta\n",
      "BGC BGC0002614 has no aa34 fasta\n",
      "BGC BGC0002228 has no aa34 fasta\n",
      "BGC BGC0002227 has no aa34 fasta\n",
      "BGC BGC0002073 has no aa34 fasta\n",
      "BGC BGC0003080 has no aa34 fasta\n",
      "BGC BGC0002866 has no aa34 fasta\n",
      "BGC BGC0002087 has no aa34 fasta\n",
      "BGC BGC0002608 has no aa34 fasta\n",
      "BGC BGC0003084 has no aa34 fasta\n",
      "BGC BGC0001003 has no aa34 fasta\n",
      "BGC BGC0001616 has no aa34 fasta\n",
      "BGC BGC0001094 has no aa34 fasta\n",
      "BGC BGC0002683 has no aa34 fasta\n",
      "BGC BGC0001002 has no aa34 fasta\n",
      "BGC BGC0003079 has no aa34 fasta\n",
      "BGC BGC0001521 has no aa34 fasta\n",
      "BGC BGC0002426 has no aa34 fasta\n",
      "BGC BGC0002499 has no aa34 fasta\n",
      "BGC BGC0002496 has no aa34 fasta\n",
      "BGC BGC0002892 has no aa34 fasta\n",
      "BGC BGC0003085 has no aa34 fasta\n",
      "BGC BGC0001031 has no aa34 fasta\n",
      "BGC BGC0002458 has no aa34 fasta\n",
      "BGC BGC0003082 has no aa34 fasta\n",
      "BGC BGC0002531 has no aa34 fasta\n",
      "[{'genome_id': 'BGC0002625', 'gene_id': 'MCF2151708.1', 'a_domain_idx': 0, 'aa34': 'RWMTFDVSVWEWHFICSGEHNLYGPTEAAIDVTF', 'residue_score': {'Arg': -inf, 'Glu': -inf, 'Val': -inf, 'Pen': -inf, 'Pro': -inf, 'Tyr': -inf, 'Asp': -inf, 'Phe': -inf, 'Dab': -inf, 'dHpg': -inf, 'Ser': 0.0, 'Gly': -inf, 'Lys': -inf, 'Bmt': -inf, 'oxoDec': -inf, 'Aad': -inf, 'Leu': -inf, 'Hty': -inf, 'Hpg': -inf, 'Pip': -inf, 'Asn': -inf, 'Dpr': -inf, 'Trp': -inf, 'Cys': -inf, 'Bza': -inf, 'unknown': -inf, 'His': -inf, 'Orn': -inf, 'Hiv': -inf, 'Lac': -inf, 'Hse': -inf, 'Gln': -inf, 'Kyn': -inf, 'aIle': -inf}}, {'genome_id': 'BGC0002625', 'gene_id': 'MCF2151708.1', 'a_domain_idx': 1, 'aa34': 'LWHAFDAAVWEPFVLTGGDVNNYGPTENTVVATS', 'residue_score': {'Arg': -inf, 'Glu': -inf, 'Val': -4.605170185988091, 'Pen': -inf, 'Pro': -inf, 'Tyr': -inf, 'Asp': -inf, 'Phe': -inf, 'Dab': -inf, 'dHpg': -inf, 'Ser': -inf, 'Gly': -inf, 'Lys': -inf, 'Bmt': -inf, 'oxoDec': -inf, 'Aad': -inf, 'Leu': -0.030459207484708574, 'Hty': -inf, 'Hpg': -inf, 'Pip': -inf, 'Asn': -inf, 'Dpr': -inf, 'Trp': -inf, 'Cys': -inf, 'Bza': -inf, 'unknown': -4.605170185988091, 'His': -inf, 'Orn': -inf, 'Hiv': -inf, 'Lac': -inf, 'Hse': -inf, 'Gln': -inf, 'Kyn': -inf, 'aIle': -inf}}]\n",
      "['Pen', 'Glu', 'Kyn', 'oxoDec', 'unknown', 'Bmt', 'Aad', 'Asn', 'Pip', 'Leu', 'aIle', 'His', 'Arg', 'Cys', 'Tyr', 'Hse', 'Hty', 'Lac', 'Hiv', 'Gly', 'Dab', 'dHpg', 'Val', 'Dpr', 'Trp', 'Asp', 'Orn', 'Phe', 'Lys', 'Hpg', 'Gln', 'Bza', 'Ser', 'Pro']\n"
     ]
    }
   ],
   "execution_count": 4
  },
  {
   "metadata": {
    "ExecuteTime": {
     "end_time": "2025-02-27T12:07:53.874168Z",
     "start_time": "2025-02-27T12:07:53.872107Z"
    }
   },
   "cell_type": "code",
   "source": "",
   "id": "1eddde72f2ae8307",
   "outputs": [],
   "execution_count": null
  }
 ],
 "metadata": {
  "kernelspec": {
   "display_name": "Python 3",
   "language": "python",
   "name": "python3"
  },
  "language_info": {
   "codemirror_mode": {
    "name": "ipython",
    "version": 2
   },
   "file_extension": ".py",
   "mimetype": "text/x-python",
   "name": "python",
   "nbconvert_exporter": "python",
   "pygments_lexer": "ipython2",
   "version": "2.7.6"
  }
 },
 "nbformat": 4,
 "nbformat_minor": 5
}
