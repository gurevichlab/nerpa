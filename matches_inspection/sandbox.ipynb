{
 "cells": [
  {
   "cell_type": "code",
   "id": "initial_id",
   "metadata": {
    "collapsed": true,
    "ExecuteTime": {
     "end_time": "2025-02-15T16:51:25.917252Z",
     "start_time": "2025-02-15T16:51:25.914383Z"
    }
   },
   "source": [
    "# load approved_nrp_ids\n",
    "with open('approved_nrp_ids.txt', 'r') as f:\n",
    "    approved_nrp_ids = [nrp_id.strip() for nrp_id in f.readlines()]\n"
   ],
   "outputs": [
    {
     "name": "stdout",
     "output_type": "stream",
     "text": [
      "Approved NRP IDs (127 in total):\n"
     ]
    }
   ],
   "execution_count": 12
  },
  {
   "metadata": {
    "ExecuteTime": {
     "end_time": "2025-02-15T16:51:25.946125Z",
     "start_time": "2025-02-15T16:51:25.941454Z"
    }
   },
   "cell_type": "code",
   "source": [
    "# load matches table\n",
    "import pandas as pd\n",
    "matches_table = pd.read_csv('matches_inspection_table.tsv', sep='\\t')\n",
    "# q: correct table: for each value x in 'NRP variant' column x -> x.split('#')[0]\n",
    "matches_table['NRP variant'] = matches_table['NRP variant'].apply(lambda x: x.split('#')[0])\n"
   ],
   "id": "2e025f86644517a3",
   "outputs": [],
   "execution_count": 13
  },
  {
   "metadata": {
    "ExecuteTime": {
     "end_time": "2025-02-15T16:51:25.999800Z",
     "start_time": "2025-02-15T16:51:25.995800Z"
    }
   },
   "cell_type": "code",
   "source": [
    "# q: get all NRP variants that are not in approved_nrp_ids but have a Verdict in ['good', 'to be corrected', 'was corrected']\n",
    "\n",
    "matches_table_good = matches_table[matches_table['Verdict'].isin(['good', 'to be corrected', 'was corrected'])]\n",
    "nrp_variants_good = set(matches_table_good['NRP variant'].unique())\n",
    "print(f'NRP variants with verdicts good, to be corrected, was corrected ({len(nrp_variants_good)} in total):')\n",
    "nrp_variants_approved = set(approved_nrp_ids)\n",
    "print(f'Approved NRP variants ({len(nrp_variants_approved)} in total):')\n",
    "nrp_variants_to_be_approved = sorted(nrp_variants_good - nrp_variants_approved)\n",
    "print(f'NRP variants to be approved ({len(nrp_variants_to_be_approved)} in total):')\n",
    "print(nrp_variants_to_be_approved)"
   ],
   "id": "c33c296fb8f47fb9",
   "outputs": [
    {
     "name": "stdout",
     "output_type": "stream",
     "text": [
      "NRP variants with verdicts good, to be corrected, was corrected (238 in total):\n",
      "['BGC0000289.0', 'BGC0000296.0', 'BGC0000305.0', 'BGC0000306.0', 'BGC0000307.0', 'BGC0000310.0', 'BGC0000311.0', 'BGC0000313.0', 'BGC0000314.0', 'BGC0000315.0', 'BGC0000315.1', 'BGC0000315.2', 'BGC0000315.3', 'BGC0000315.4', 'BGC0000315.6', 'BGC0000322.0', 'BGC0000323.0', 'BGC0000334.0', 'BGC0000336.0', 'BGC0000339.0', 'BGC0000342.0', 'BGC0000346.0', 'BGC0000349.0', 'BGC0000354.1', 'BGC0000354.3', 'BGC0000359.0', 'BGC0000359.1', 'BGC0000368.0', 'BGC0000374.4', 'BGC0000374.6', 'BGC0000379.0', 'BGC0000383.0', 'BGC0000385.0', 'BGC0000386.1', 'BGC0000386.3', 'BGC0000393.0', 'BGC0000395.0', 'BGC0000398.0', 'BGC0000399.0', 'BGC0000399.1', 'BGC0000400.0', 'BGC0000402.0', 'BGC0000402.1', 'BGC0000402.2', 'BGC0000405.0', 'BGC0000405.1', 'BGC0000405.3', 'BGC0000416.0', 'BGC0000416.1', 'BGC0000423.0', 'BGC0000424.1', 'BGC0000426.0', 'BGC0000429.0', 'BGC0000429.1', 'BGC0000433.0', 'BGC0000434.0', 'BGC0000434.1', 'BGC0000434.4', 'BGC0000439.0', 'BGC0000441.0', 'BGC0000445.0', 'BGC0000450.0', 'BGC0000452.0', 'BGC0000455.0', 'BGC0000459.1', 'BGC0000461.0', 'BGC0000464.0', 'BGC0000464.1', 'BGC0000985.1', 'BGC0000985.4', 'BGC0001018.0', 'BGC0001028.0', 'BGC0001035.0', 'BGC0001042.0', 'BGC0001050.0', 'BGC0001056.3', 'BGC0001090.0', 'BGC0001095.0', 'BGC0001098.0', 'BGC0001127.0', 'BGC0001128.0', 'BGC0001130.1', 'BGC0001131.0', 'BGC0001132.0', 'BGC0001133.0', 'BGC0001135.0', 'BGC0001135.1', 'BGC0001152.0', 'BGC0001185.0', 'BGC0001189.0', 'BGC0001207.0', 'BGC0001214.4', 'BGC0001230.3', 'BGC0001230.6', 'BGC0001230.7', 'BGC0001233.0', 'BGC0001235.0', 'BGC0001240.1', 'BGC0001290.1', 'BGC0001312.0', 'BGC0001330.6', 'BGC0001344.8', 'BGC0001346.0', 'BGC0001346.1', 'BGC0001346.2', 'BGC0001370.0', 'BGC0001370.1', 'BGC0001402.0', 'BGC0001402.1', 'BGC0001402.2', 'BGC0001406.0', 'BGC0001414.0', 'BGC0001417.0', 'BGC0001421.0', 'BGC0001422.0', 'BGC0001424.0', 'BGC0001448.0', 'BGC0001459.0', 'BGC0001462.0', 'BGC0001532.0', 'BGC0001565.0', 'BGC0001569.0', 'BGC0001620.1', 'BGC0001620.2', 'BGC0001628.0', 'BGC0001628.1', 'BGC0001657.0', 'BGC0001667.2', 'BGC0001667.4', 'BGC0001716.0', 'BGC0001796.0', 'BGC0001822.1', 'BGC0001822.2', 'BGC0001822.3', 'BGC0001833.0', 'BGC0001833.1', 'BGC0001842.0', 'BGC0001953.1', 'BGC0001955.0', 'BGC0001955.1', 'BGC0001980.0', 'BGC0002044.0', 'BGC0002048.0', 'BGC0002048.1', 'BGC0002061.0', 'BGC0002061.1', 'BGC0002071.0', 'BGC0002071.1', 'BGC0002071.2', 'BGC0002071.3', 'BGC0002092.0', 'BGC0002092.2', 'BGC0002092.3', 'BGC0002092.4', 'BGC0002092.5', 'BGC0002107.0', 'BGC0002109.0', 'BGC0002109.1', 'BGC0002109.2', 'BGC0002109.3', 'BGC0002109.4', 'BGC0002109.5', 'BGC0002117.1', 'BGC0002123.0', 'BGC0002123.1', 'BGC0002123.10', 'BGC0002123.11', 'BGC0002123.2', 'BGC0002123.3', 'BGC0002123.5', 'BGC0002123.8', 'BGC0002123.9', 'BGC0002172.2', 'BGC0002188.0', 'BGC0002188.1', 'BGC0002259.0', 'BGC0002259.1', 'BGC0002286.0', 'BGC0002286.1', 'BGC0002293.0', 'BGC0002293.1', 'BGC0002326.2', 'BGC0002327.0', 'BGC0002327.1', 'BGC0002329.0', 'BGC0002344.1', 'BGC0002351.0', 'BGC0002360.1', 'BGC0002360.2', 'BGC0002370.0', 'BGC0002370.2', 'BGC0002370.3', 'BGC0002379.0', 'BGC0002408.0', 'BGC0002413.0', 'BGC0002414.0', 'BGC0002415.1', 'BGC0002415.2', 'BGC0002424.0', 'BGC0002424.1', 'BGC0002424.2', 'BGC0002424.3', 'BGC0002424.4', 'BGC0002424.5', 'BGC0002424.7', 'BGC0002432.0', 'BGC0002466.0', 'BGC0002484.0', 'BGC0002484.1', 'BGC0002484.2', 'BGC0002484.3', 'BGC0002484.5', 'BGC0002503.3', 'BGC0002503.4', 'BGC0002503.6', 'BGC0002512.0', 'BGC0002521.0', 'BGC0002521.2', 'BGC0002522.1', 'BGC0002532.0', 'BGC0002548.0', 'BGC0002548.1', 'BGC0002548.2', 'BGC0002548.3', 'BGC0002564.0', 'BGC0002564.1', 'BGC0002564.4', 'BGC0002564.6', 'BGC0002564.7', 'BGC0002569.2', 'BGC0002572.0', 'BGC0002572.1', 'BGC0002572.2', 'BGC0002581.1', 'BGC0002581.2', 'BGC0002581.3', 'BGC0002581.4', 'BGC0002581.5']\n",
      "Approved NRP variants (127 in total):\n",
      "['BGC0000305.0', 'BGC0000306.0', 'BGC0000310.0', 'BGC0000311.0', 'BGC0000315.0', 'BGC0000315.1', 'BGC0000315.2', 'BGC0000315.3', 'BGC0000315.4', 'BGC0000315.6', 'BGC0000323.0', 'BGC0000334.0', 'BGC0000336.0', 'BGC0000339.0', 'BGC0000342.0', 'BGC0000346.0', 'BGC0000374.6', 'BGC0000379.0', 'BGC0000393.0', 'BGC0000395.0', 'BGC0000398.0', 'BGC0000400.0', 'BGC0000402.0', 'BGC0000402.1', 'BGC0000402.2', 'BGC0000405.0', 'BGC0000405.1', 'BGC0000405.3', 'BGC0000426.0', 'BGC0000429.0', 'BGC0000429.1', 'BGC0000433.0', 'BGC0000434.0', 'BGC0000434.1', 'BGC0000441.0', 'BGC0000445.0', 'BGC0000450.0', 'BGC0000455.0', 'BGC0000459.1', 'BGC0000461.0', 'BGC0000464.0', 'BGC0001018.0', 'BGC0001028.0', 'BGC0001042.0', 'BGC0001056.3', 'BGC0001090.0', 'BGC0001098.0', 'BGC0001128.0', 'BGC0001135.1', 'BGC0001152.0', 'BGC0001185.0', 'BGC0001207.0', 'BGC0001233.0', 'BGC0001235.0', 'BGC0001370.0', 'BGC0001370.1', 'BGC0001406.0', 'BGC0001414.0', 'BGC0001417.0', 'BGC0001422.0', 'BGC0001424.0', 'BGC0001532.0', 'BGC0001565.0', 'BGC0001620.1', 'BGC0001620.2', 'BGC0001628.0', 'BGC0001628.1', 'BGC0001657.0', 'BGC0001667.2', 'BGC0001667.4', 'BGC0001822.2', 'BGC0001822.3', 'BGC0001833.0', 'BGC0001833.1', 'BGC0001953.1', 'BGC0001955.0', 'BGC0001955.1', 'BGC0001980.0', 'BGC0002092.0', 'BGC0002092.2', 'BGC0002092.3', 'BGC0002092.5', 'BGC0002107.0', 'BGC0002109.1', 'BGC0002109.2', 'BGC0002109.3', 'BGC0002109.5', 'BGC0002123.1', 'BGC0002123.11', 'BGC0002123.5', 'BGC0002286.0', 'BGC0002286.1', 'BGC0002293.0', 'BGC0002293.1', 'BGC0002327.0', 'BGC0002327.1', 'BGC0002351.0', 'BGC0002379.0', 'BGC0002414.0', 'BGC0002424.0', 'BGC0002424.1', 'BGC0002424.2', 'BGC0002424.3', 'BGC0002424.4', 'BGC0002424.5', 'BGC0002424.7', 'BGC0002432.0', 'BGC0002484.1', 'BGC0002484.2', 'BGC0002484.3', 'BGC0002484.5', 'BGC0002503.3', 'BGC0002503.4', 'BGC0002512.0', 'BGC0002521.0', 'BGC0002521.2', 'BGC0002522.1', 'BGC0002548.0', 'BGC0002548.1', 'BGC0002548.3', 'BGC0002564.0', 'BGC0002564.1', 'BGC0002564.6', 'BGC0002564.7', 'BGC0002581.2', 'BGC0002581.3', 'BGC0002581.5']\n",
      "NRP variants to be approved (111 in total):\n",
      "['BGC0000289.0', 'BGC0000296.0', 'BGC0000307.0', 'BGC0000313.0', 'BGC0000314.0', 'BGC0000322.0', 'BGC0000349.0', 'BGC0000354.1', 'BGC0000354.3', 'BGC0000359.0', 'BGC0000359.1', 'BGC0000368.0', 'BGC0000374.4', 'BGC0000383.0', 'BGC0000385.0', 'BGC0000386.1', 'BGC0000386.3', 'BGC0000399.0', 'BGC0000399.1', 'BGC0000416.0', 'BGC0000416.1', 'BGC0000423.0', 'BGC0000424.1', 'BGC0000434.4', 'BGC0000439.0', 'BGC0000452.0', 'BGC0000464.1', 'BGC0000985.1', 'BGC0000985.4', 'BGC0001035.0', 'BGC0001050.0', 'BGC0001095.0', 'BGC0001127.0', 'BGC0001130.1', 'BGC0001131.0', 'BGC0001132.0', 'BGC0001133.0', 'BGC0001135.0', 'BGC0001189.0', 'BGC0001214.4', 'BGC0001230.3', 'BGC0001230.6', 'BGC0001230.7', 'BGC0001240.1', 'BGC0001290.1', 'BGC0001312.0', 'BGC0001330.6', 'BGC0001344.8', 'BGC0001346.0', 'BGC0001346.1', 'BGC0001346.2', 'BGC0001402.0', 'BGC0001402.1', 'BGC0001402.2', 'BGC0001421.0', 'BGC0001448.0', 'BGC0001459.0', 'BGC0001462.0', 'BGC0001569.0', 'BGC0001716.0', 'BGC0001796.0', 'BGC0001822.1', 'BGC0001842.0', 'BGC0002044.0', 'BGC0002048.0', 'BGC0002048.1', 'BGC0002061.0', 'BGC0002061.1', 'BGC0002071.0', 'BGC0002071.1', 'BGC0002071.2', 'BGC0002071.3', 'BGC0002092.4', 'BGC0002109.0', 'BGC0002109.4', 'BGC0002117.1', 'BGC0002123.0', 'BGC0002123.10', 'BGC0002123.2', 'BGC0002123.3', 'BGC0002123.8', 'BGC0002123.9', 'BGC0002172.2', 'BGC0002188.0', 'BGC0002188.1', 'BGC0002259.0', 'BGC0002259.1', 'BGC0002326.2', 'BGC0002329.0', 'BGC0002344.1', 'BGC0002360.1', 'BGC0002360.2', 'BGC0002370.0', 'BGC0002370.2', 'BGC0002370.3', 'BGC0002408.0', 'BGC0002413.0', 'BGC0002415.1', 'BGC0002415.2', 'BGC0002466.0', 'BGC0002484.0', 'BGC0002503.6', 'BGC0002532.0', 'BGC0002548.2', 'BGC0002564.4', 'BGC0002569.2', 'BGC0002572.0', 'BGC0002572.1', 'BGC0002572.2', 'BGC0002581.1', 'BGC0002581.4']\n"
     ]
    }
   ],
   "execution_count": 14
  },
  {
   "metadata": {
    "ExecuteTime": {
     "end_time": "2025-02-15T16:56:05.074689Z",
     "start_time": "2025-02-15T16:56:05.070949Z"
    }
   },
   "cell_type": "code",
   "source": [
    "from pathlib import Path\n",
    "to_be_approved_bgc_ids = sorted({nrp_id.split('.')[0] for nrp_id in nrp_variants_to_be_approved})\n",
    "mibig_results_dir = '/home/ilianolhin/programs/antismash7/mibig_results/'\n",
    "as_paths = [mibig_results_dir + bgc_id for bgc_id in to_be_approved_bgc_ids]\n",
    "with open('to_be_approved_as_paths.txt', 'w') as f:\n",
    "    f.write('\\n'.join(as_paths))"
   ],
   "id": "c22b5e8bc58d68b5",
   "outputs": [],
   "execution_count": 15
  },
  {
   "metadata": {
    "ExecuteTime": {
     "end_time": "2025-02-15T17:00:04.556621Z",
     "start_time": "2025-02-15T17:00:04.370882Z"
    }
   },
   "cell_type": "code",
   "source": [
    "import json\n",
    "rban_records_dir = Path('/home/ilianolhin/git/nerpa2_old/test_data/rban_records/')\n",
    "rban_records = []\n",
    "for nrp_id in nrp_variants_to_be_approved:\n",
    "    with open(rban_records_dir / f'{nrp_id}.json', 'r') as f:\n",
    "        rban_records.append(json.load(f))\n",
    "\n",
    "with open('to_be_approved_rban_records.json', 'w') as f:\n",
    "    json.dump(rban_records, f, indent=4)\n"
   ],
   "id": "8cbc2ff1089eb6e2",
   "outputs": [],
   "execution_count": 16
  },
  {
   "metadata": {},
   "cell_type": "code",
   "outputs": [],
   "execution_count": null,
   "source": "",
   "id": "ed71afb5eb4912b4"
  }
 ],
 "metadata": {
  "kernelspec": {
   "display_name": "Python 3",
   "language": "python",
   "name": "python3"
  },
  "language_info": {
   "codemirror_mode": {
    "name": "ipython",
    "version": 2
   },
   "file_extension": ".py",
   "mimetype": "text/x-python",
   "name": "python",
   "nbconvert_exporter": "python",
   "pygments_lexer": "ipython2",
   "version": "2.7.6"
  }
 },
 "nbformat": 4,
 "nbformat_minor": 5
}
