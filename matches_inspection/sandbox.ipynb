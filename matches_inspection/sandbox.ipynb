{
 "cells": [
  {
   "cell_type": "code",
   "id": "initial_id",
   "metadata": {
    "collapsed": true,
    "ExecuteTime": {
     "end_time": "2025-03-24T07:16:27.064426Z",
     "start_time": "2025-03-24T07:16:27.060991Z"
    }
   },
   "source": [
    "# load approved_nrp_ids\n",
    "with open('approved_nrp_ids.txt', 'r') as f:\n",
    "    approved_nrp_ids = [nrp_id.strip() for nrp_id in f.readlines()]\n"
   ],
   "outputs": [],
   "execution_count": 61
  },
  {
   "metadata": {
    "ExecuteTime": {
     "end_time": "2025-03-24T07:16:27.081642Z",
     "start_time": "2025-03-24T07:16:27.077030Z"
    }
   },
   "cell_type": "code",
   "source": [
    "# load matches table\n",
    "import pandas as pd\n",
    "matches_table = pd.read_csv('matches_inspection_table.tsv', sep='\\t')\n",
    "# q: correct table: for each value x in 'NRP variant' column x -> x.split('#')[0]\n",
    "matches_table['NRP variant'] = matches_table['NRP variant'].apply(lambda x: x.split('#')[0])\n"
   ],
   "id": "2e025f86644517a3",
   "outputs": [],
   "execution_count": 62
  },
  {
   "metadata": {
    "ExecuteTime": {
     "end_time": "2025-03-24T07:16:27.143182Z",
     "start_time": "2025-03-24T07:16:27.136151Z"
    }
   },
   "cell_type": "code",
   "source": [
    "# q: get all NRP variants that are not in approved_nrp_ids but have a Verdict in ['good', 'to be corrected', 'was corrected']\n",
    "\n",
    "matches_table_good = matches_table[matches_table['Verdict'].isin(['good', 'to be corrected', 'was corrected'])]\n",
    "nrp_variants_good = set(matches_table_good['NRP variant'].unique())\n",
    "print(f'NRP variants with verdicts good, to be corrected, was corrected ({len(nrp_variants_good)} in total):')\n",
    "nrp_variants_approved = set(approved_nrp_ids)\n",
    "print(f'Approved NRP variants ({len(nrp_variants_approved)} in total):')\n",
    "nrp_variants_to_be_approved = sorted(nrp_variants_good - nrp_variants_approved)\n",
    "print(f'NRP variants to be approved ({len(nrp_variants_to_be_approved)} in total):')\n",
    "print(nrp_variants_to_be_approved)"
   ],
   "id": "c33c296fb8f47fb9",
   "outputs": [
    {
     "name": "stdout",
     "output_type": "stream",
     "text": [
      "NRP variants with verdicts good, to be corrected, was corrected (238 in total):\n",
      "Approved NRP variants (127 in total):\n",
      "NRP variants to be approved (111 in total):\n",
      "['BGC0000289.0', 'BGC0000296.0', 'BGC0000307.0', 'BGC0000313.0', 'BGC0000314.0', 'BGC0000322.0', 'BGC0000349.0', 'BGC0000354.1', 'BGC0000354.3', 'BGC0000359.0', 'BGC0000359.1', 'BGC0000368.0', 'BGC0000374.4', 'BGC0000383.0', 'BGC0000385.0', 'BGC0000386.1', 'BGC0000386.3', 'BGC0000399.0', 'BGC0000399.1', 'BGC0000416.0', 'BGC0000416.1', 'BGC0000423.0', 'BGC0000424.1', 'BGC0000434.4', 'BGC0000439.0', 'BGC0000452.0', 'BGC0000464.1', 'BGC0000985.1', 'BGC0000985.4', 'BGC0001035.0', 'BGC0001050.0', 'BGC0001095.0', 'BGC0001127.0', 'BGC0001130.1', 'BGC0001131.0', 'BGC0001132.0', 'BGC0001133.0', 'BGC0001135.0', 'BGC0001189.0', 'BGC0001214.4', 'BGC0001230.3', 'BGC0001230.6', 'BGC0001230.7', 'BGC0001240.1', 'BGC0001290.1', 'BGC0001312.0', 'BGC0001330.6', 'BGC0001344.8', 'BGC0001346.0', 'BGC0001346.1', 'BGC0001346.2', 'BGC0001402.0', 'BGC0001402.1', 'BGC0001402.2', 'BGC0001421.0', 'BGC0001448.0', 'BGC0001459.0', 'BGC0001462.0', 'BGC0001569.0', 'BGC0001716.0', 'BGC0001796.0', 'BGC0001822.1', 'BGC0001842.0', 'BGC0002044.0', 'BGC0002048.0', 'BGC0002048.1', 'BGC0002061.0', 'BGC0002061.1', 'BGC0002071.0', 'BGC0002071.1', 'BGC0002071.2', 'BGC0002071.3', 'BGC0002092.4', 'BGC0002109.0', 'BGC0002109.4', 'BGC0002117.1', 'BGC0002123.0', 'BGC0002123.10', 'BGC0002123.2', 'BGC0002123.3', 'BGC0002123.8', 'BGC0002123.9', 'BGC0002172.2', 'BGC0002188.0', 'BGC0002188.1', 'BGC0002259.0', 'BGC0002259.1', 'BGC0002326.2', 'BGC0002329.0', 'BGC0002344.1', 'BGC0002360.1', 'BGC0002360.2', 'BGC0002370.0', 'BGC0002370.2', 'BGC0002370.3', 'BGC0002408.0', 'BGC0002413.0', 'BGC0002415.1', 'BGC0002415.2', 'BGC0002466.0', 'BGC0002484.0', 'BGC0002503.6', 'BGC0002532.0', 'BGC0002548.2', 'BGC0002564.4', 'BGC0002569.2', 'BGC0002572.0', 'BGC0002572.1', 'BGC0002572.2', 'BGC0002581.1', 'BGC0002581.4']\n"
     ]
    }
   ],
   "execution_count": 63
  },
  {
   "metadata": {
    "ExecuteTime": {
     "end_time": "2025-03-24T07:16:27.166744Z",
     "start_time": "2025-03-24T07:16:27.162630Z"
    }
   },
   "cell_type": "code",
   "source": [
    "if False:\n",
    "    from pathlib import Path\n",
    "    to_be_approved_bgc_ids = sorted({nrp_id.split('.')[0] for nrp_id in nrp_variants_to_be_approved})\n",
    "    mibig_results_dir = '/home/ilianolhin/programs/antismash7/mibig_results/'\n",
    "    as_paths = [mibig_results_dir + bgc_id for bgc_id in to_be_approved_bgc_ids]\n",
    "    with open('to_be_approved_as_paths.txt', 'w') as f:\n",
    "        f.write('\\n'.join(as_paths))"
   ],
   "id": "c22b5e8bc58d68b5",
   "outputs": [],
   "execution_count": 64
  },
  {
   "metadata": {
    "ExecuteTime": {
     "end_time": "2025-03-24T07:16:27.180987Z",
     "start_time": "2025-03-24T07:16:27.178095Z"
    }
   },
   "cell_type": "code",
   "source": [
    "if False:\n",
    "    import json\n",
    "    rban_records_dir = Path('/home/ilianolhin/git/nerpa2_old/test_data/rban_records/')\n",
    "    rban_records = []\n",
    "    for nrp_id in nrp_variants_to_be_approved:\n",
    "        with open(rban_records_dir / f'{nrp_id}.json', 'r') as f:\n",
    "            rban_records.append(json.load(f))\n",
    "\n",
    "    with open('to_be_approved_rban_records.json', 'w') as f:\n",
    "        json.dump(rban_records, f, indent=4)\n"
   ],
   "id": "8cbc2ff1089eb6e2",
   "outputs": [],
   "execution_count": 65
  },
  {
   "metadata": {
    "ExecuteTime": {
     "end_time": "2025-03-24T07:16:27.271059Z",
     "start_time": "2025-03-24T07:16:27.232820Z"
    }
   },
   "cell_type": "code",
   "source": [
    "from src.matching.match_type import Match\n",
    "from typing import List\n",
    "from pathlib import Path\n",
    "\n",
    "def load_matches_from_txt(matches_txt: Path) -> List[Match]:\n",
    "    matches_strs = matches_txt.read_text().split('\\n\\n')\n",
    "    matches_strs = [match_str for match_str in matches_strs\n",
    "                    if match_str.strip()]\n",
    "    matches = []\n",
    "    for match_str in matches_strs:\n",
    "        try:\n",
    "            matches.append(Match.from_str(match_str))\n",
    "        except Exception as e:\n",
    "            print(f'Error while parsing match:\\n{match_str}\\n{e}')\n",
    "            raise e\n",
    "    return [Match.from_str(matches_str)\n",
    "            for matches_str in matches_strs]\n",
    "\n",
    "new_approved_matches = load_matches_from_txt(Path('/home/ilianolhin/git/nerpa2/matches_inspection/new_approved_matches.txt'))\n",
    "print(f'New approved matches ({len(new_approved_matches)} in total)')\n",
    "missing_nrp_ids = [nrp_id\n",
    "                      for nrp_id in nrp_variants_to_be_approved\n",
    "                      if not any(match.nrp_variant_id.nrp_id == nrp_id for match in new_approved_matches)]\n",
    "print(f'Missing NRP ids ({len(missing_nrp_ids)} in total):')\n",
    "print('\\n'.join(missing_nrp_ids))"
   ],
   "id": "ed71afb5eb4912b4",
   "outputs": [
    {
     "name": "stdout",
     "output_type": "stream",
     "text": [
      "New approved matches (203 in total)\n",
      "Missing NRP ids (35 in total):\n",
      "BGC0000386.1\n",
      "BGC0000386.3\n",
      "BGC0000416.0\n",
      "BGC0000416.1\n",
      "BGC0000985.1\n",
      "BGC0001035.0\n",
      "BGC0001050.0\n",
      "BGC0001130.1\n",
      "BGC0001132.0\n",
      "BGC0001133.0\n",
      "BGC0001135.0\n",
      "BGC0001214.4\n",
      "BGC0001290.1\n",
      "BGC0001330.6\n",
      "BGC0001344.8\n",
      "BGC0001346.0\n",
      "BGC0001346.1\n",
      "BGC0001346.2\n",
      "BGC0001402.0\n",
      "BGC0001402.1\n",
      "BGC0001402.2\n",
      "BGC0001716.0\n",
      "BGC0002172.2\n",
      "BGC0002259.0\n",
      "BGC0002259.1\n",
      "BGC0002370.2\n",
      "BGC0002408.0\n",
      "BGC0002413.0\n",
      "BGC0002484.0\n",
      "BGC0002503.6\n",
      "BGC0002532.0\n",
      "BGC0002548.2\n",
      "BGC0002569.2\n",
      "BGC0002581.1\n",
      "BGC0002581.4\n"
     ]
    }
   ],
   "execution_count": 66
  }
 ],
 "metadata": {
  "kernelspec": {
   "display_name": "Python 3",
   "language": "python",
   "name": "python3"
  },
  "language_info": {
   "codemirror_mode": {
    "name": "ipython",
    "version": 2
   },
   "file_extension": ".py",
   "mimetype": "text/x-python",
   "name": "python",
   "nbconvert_exporter": "python",
   "pygments_lexer": "ipython2",
   "version": "2.7.6"
  }
 },
 "nbformat": 4,
 "nbformat_minor": 5
}
