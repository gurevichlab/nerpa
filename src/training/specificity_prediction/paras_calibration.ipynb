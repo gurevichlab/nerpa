{
 "cells": [
  {
   "cell_type": "code",
   "id": "initial_id",
   "metadata": {
    "collapsed": true,
    "ExecuteTime": {
     "end_time": "2025-09-01T20:32:34.395397Z",
     "start_time": "2025-09-01T20:32:33.810185Z"
    }
   },
   "source": [
    "import pandas as pd\n",
    "from pathlib import Path\n",
    "from src.config import load_monomer_names_helper\n",
    "\n",
    "nerpa_dir = Path('/home/ilianolhin/git/nerpa2/')\n",
    "monomer_names_cfg = nerpa_dir / 'configs/monomers_config.yaml'\n",
    "monomer_names_helper = load_monomer_names_helper(monomer_names_cfg, nerpa_dir)\n",
    "\n",
    "paras_results_tsv = Path('/data/paras_dataset_results.tsv')\n",
    "paras_results = pd.read_csv(paras_results_tsv, sep='\\t')\n",
    "paras_results.head()\n"
   ],
   "outputs": [
    {
     "data": {
      "text/plain": [
       "          id                   substrate  score  correct\n",
       "0  A05163.A1   2,3-dihydroxybenzoic acid   0.00    False\n",
       "1  A05163.A1     2,4-diaminobutyric acid   0.00    False\n",
       "2  A05163.A1          2-aminoadipic acid   0.01    False\n",
       "3  A05163.A1      2-aminoisobutyric acid   0.00    False\n",
       "4  A05163.A1  3,5-dihydroxyphenylglycine   0.00    False"
      ],
      "text/html": [
       "<div>\n",
       "<style scoped>\n",
       "    .dataframe tbody tr th:only-of-type {\n",
       "        vertical-align: middle;\n",
       "    }\n",
       "\n",
       "    .dataframe tbody tr th {\n",
       "        vertical-align: top;\n",
       "    }\n",
       "\n",
       "    .dataframe thead th {\n",
       "        text-align: right;\n",
       "    }\n",
       "</style>\n",
       "<table border=\"1\" class=\"dataframe\">\n",
       "  <thead>\n",
       "    <tr style=\"text-align: right;\">\n",
       "      <th></th>\n",
       "      <th>id</th>\n",
       "      <th>substrate</th>\n",
       "      <th>score</th>\n",
       "      <th>correct</th>\n",
       "    </tr>\n",
       "  </thead>\n",
       "  <tbody>\n",
       "    <tr>\n",
       "      <th>0</th>\n",
       "      <td>A05163.A1</td>\n",
       "      <td>2,3-dihydroxybenzoic acid</td>\n",
       "      <td>0.00</td>\n",
       "      <td>False</td>\n",
       "    </tr>\n",
       "    <tr>\n",
       "      <th>1</th>\n",
       "      <td>A05163.A1</td>\n",
       "      <td>2,4-diaminobutyric acid</td>\n",
       "      <td>0.00</td>\n",
       "      <td>False</td>\n",
       "    </tr>\n",
       "    <tr>\n",
       "      <th>2</th>\n",
       "      <td>A05163.A1</td>\n",
       "      <td>2-aminoadipic acid</td>\n",
       "      <td>0.01</td>\n",
       "      <td>False</td>\n",
       "    </tr>\n",
       "    <tr>\n",
       "      <th>3</th>\n",
       "      <td>A05163.A1</td>\n",
       "      <td>2-aminoisobutyric acid</td>\n",
       "      <td>0.00</td>\n",
       "      <td>False</td>\n",
       "    </tr>\n",
       "    <tr>\n",
       "      <th>4</th>\n",
       "      <td>A05163.A1</td>\n",
       "      <td>3,5-dihydroxyphenylglycine</td>\n",
       "      <td>0.00</td>\n",
       "      <td>False</td>\n",
       "    </tr>\n",
       "  </tbody>\n",
       "</table>\n",
       "</div>"
      ]
     },
     "execution_count": 1,
     "metadata": {},
     "output_type": "execute_result"
    }
   ],
   "execution_count": 1
  },
  {
   "metadata": {
    "ExecuteTime": {
     "end_time": "2025-09-01T20:49:24.476481Z",
     "start_time": "2025-09-01T20:49:21.881060Z"
    }
   },
   "cell_type": "code",
   "source": [
    "# compute calibration function\n",
    "from math import log\n",
    "from src.training.hmm_parameters.step_function import (\n",
    "    fit_step_function,\n",
    "    create_step_function\n",
    ")\n",
    "\n",
    "def get_residue(paras_name: str) -> str:\n",
    "    return monomer_names_helper.parsed_name(paras_name, name_format='paras').residue\n",
    "\n",
    "paras_results['residue'] = paras_results['substrate'].map(get_residue)\n",
    "condensed = (paras_results\n",
    "             .groupby(['id', 'residue'])\n",
    "             .agg({'score': sum, 'correct': any})\n",
    "             .reset_index())\n",
    "\n",
    "def log_safe(x):\n",
    "    return log(x) if x > 0 else float('-inf')\n",
    "\n",
    "log_score_correctness = list(zip(map(log_safe, condensed['score']),\n",
    "                                 condensed['correct']))\n",
    "step_function_steps = fit_step_function(log_score_correctness,\n",
    "                                  step_range=1000, num_bins=20)\n",
    "print(step_function_steps)\n",
    "\n",
    "step_function = create_step_function(step_function_steps)\n"
   ],
   "id": "bbb203d6c7e9466b",
   "outputs": [
    {
     "name": "stderr",
     "output_type": "stream",
     "text": [
      "/tmp/ipykernel_17435/3844491741.py:14: FutureWarning: The provided callable <built-in function sum> is currently using SeriesGroupBy.sum. In a future version of pandas, the provided callable will be used directly. To keep current behavior pass the string \"sum\" instead.\n",
      "  .agg({'score': sum, 'correct': any})\n"
     ]
    },
    {
     "name": "stdout",
     "output_type": "stream",
     "text": [
      "[0.001, 0.013, 0.018, 0.042, 0.042, 0.102, 0.102, 0.102, 0.203, 0.203, 0.203, 0.203, 0.847, 0.937, 0.937, 0.937, 0.937, 0.968, 0.968, 0.991]\n"
     ]
    }
   ],
   "execution_count": 10
  },
  {
   "metadata": {
    "ExecuteTime": {
     "end_time": "2025-09-01T20:48:33.014037Z",
     "start_time": "2025-09-01T20:48:32.979297Z"
    }
   },
   "cell_type": "code",
   "source": [
    "# compute default distribution\n",
    "from src.monomer_names_helper import UNKNOWN_RESIDUE\n",
    "default_scores = (condensed\n",
    "                  .assign(score=condensed[\"score\"].map(step_function))\n",
    "                  .groupby(\"residue\")[\"score\"]\n",
    "                  .mean()).to_dict()\n",
    "total = sum(default_scores.values())\n",
    "default_scores[UNKNOWN_RESIDUE] = 1.0 - total\n",
    "print(default_scores)"
   ],
   "id": "d09e5ccbfa3432df",
   "outputs": [
    {
     "name": "stdout",
     "output_type": "stream",
     "text": [
      "{'Aad': 0.004381746513038205, 'Aib': 0.007446634323832626, 'Ala': 0.0680888417222559, 'Arg': 0.018565797453001822, 'Asn': 0.028409945421467554, 'Asp': 0.027054881746513038, 'Bza': 0.023086112795633718, 'Cys': 0.029563371740448756, 'Dab': 0.01945027289266222, 'Gln': 0.02736082474226804, 'Glu': 0.017150394178289872, 'Gly': 0.053672225591267435, 'His': 0.005399636143117041, 'Hpg': 0.027091267434808972, 'Ile': 0.0361746513038205, 'Leu': 0.09462704669496665, 'Lys': 0.014043966040024258, 'Orn': 0.024078532443905398, 'Phe': 0.031186779866585808, 'Pip': 0.006620679199514858, 'Pro': 0.04003608247422681, 'Ser': 0.0781006670709521, 'Thr': 0.08122255912674349, 'Trp': 0.02419526986052153, 'Tyr': 0.044217404487568224, 'Val': 0.07266312916919344, 'bAla': 0.007682838083687083, 'dHpg': 0.01270497271073378, 'unknown': 0.07572346876895075}\n"
     ]
    }
   ],
   "execution_count": 9
  }
 ],
 "metadata": {
  "kernelspec": {
   "display_name": "Python 3",
   "language": "python",
   "name": "python3"
  },
  "language_info": {
   "codemirror_mode": {
    "name": "ipython",
    "version": 2
   },
   "file_extension": ".py",
   "mimetype": "text/x-python",
   "name": "python",
   "nbconvert_exporter": "python",
   "pygments_lexer": "ipython2",
   "version": "2.7.6"
  }
 },
 "nbformat": 4,
 "nbformat_minor": 5
}
