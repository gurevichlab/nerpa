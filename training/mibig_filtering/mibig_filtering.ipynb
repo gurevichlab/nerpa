{
 "cells": [
  {
   "cell_type": "code",
   "execution_count": 19,
   "id": "initial_id",
   "metadata": {
    "collapsed": true,
    "ExecuteTime": {
     "end_time": "2024-05-21T14:25:53.261614510Z",
     "start_time": "2024-05-21T14:25:42.540652342Z"
    }
   },
   "outputs": [],
   "source": [
    "import yaml\n",
    "from pathlib import Path\n",
    "rban_graphs_yaml = Path('/home/ilianolhin/git/nerpa2/training/rban_graphs.yaml')\n",
    "parsed_rban_records = yaml.safe_load(rban_graphs_yaml.read_text())"
   ]
  },
  {
   "cell_type": "code",
   "outputs": [
    {
     "name": "stdout",
     "output_type": "stream",
     "text": [
      "Total number of putative NRPs 9254\n"
     ]
    }
   ],
   "source": [
    "print(f'Total number of putative NRPs', len(parsed_rban_records))"
   ],
   "metadata": {
    "collapsed": false,
    "ExecuteTime": {
     "end_time": "2024-05-21T14:25:53.308055823Z",
     "start_time": "2024-05-21T14:25:53.262834422Z"
    }
   },
   "id": "97fc0548f0f4a41b",
   "execution_count": 20
  },
  {
   "cell_type": "code",
   "outputs": [
    {
     "name": "stdout",
     "output_type": "stream",
     "text": [
      "Example record:\n",
      "{'compound_id': 'BGC0000963.0', 'nodes': {1: 'aThr/Thr', 2: 'Ala', 3: 'Gal/Man/bGal/Glc', 4: 'X1', 5: 'OH-His', 6: 'dhCys', 7: 'dhCys', 8: 'X2', 9: 'bAla', 10: 'Asn', 11: 'X3', 12: 'X4'}, 'edges': [[2, 1, 'AMINO'], [4, 3, 'GLYCOSIDIC'], [3, 5, 'GLYCOSIDIC'], [7, 6, 'THIAZOLE_CYCLE'], [8, 5, 'AMINO'], [1, 9, 'AMINO'], [9, 7, 'THIAZOLE_CYCLE'], [10, 8, 'PYRIMIDINE_CYCLE'], [5, 2, 'AMINO'], [6, 11, 'AMINO'], [12, 10, 'NITROGEN_CARBON2']]}\n"
     ]
    }
   ],
   "source": [
    "print('Example record:')\n",
    "print(next(record for record in parsed_rban_records if record['compound_id'].startswith('BGC0000963')))\n"
   ],
   "metadata": {
    "collapsed": false,
    "ExecuteTime": {
     "end_time": "2024-05-21T14:26:46.627294585Z",
     "start_time": "2024-05-21T14:26:46.622899640Z"
    }
   },
   "id": "bdd60a4afa384bbf",
   "execution_count": 30
  },
  {
   "cell_type": "code",
   "outputs": [],
   "source": [
    "from collections import defaultdict\n",
    "import networkx as nx\n",
    "\n",
    "def build_graph(record):\n",
    "    graph = nx.DiGraph()\n",
    "    graph.add_nodes_from((u, {'residue': res}) for u, res in record['nodes'].items())\n",
    "    graph.add_edges_from((u, v, {'bondType': bondType}) for u, v, bondType in record['edges'])\n",
    "    return graph\n",
    "\n",
    "def graphs_equal(G1, G2):\n",
    "    def node_equal(n1, n2):\n",
    "        return n1['residue'] == n2['residue'] or \\\n",
    "            (n1['residue'].startswith('X') and n2['residue'].startswith('X'))\n",
    "    return nx.is_isomorphic(G1, G2, node_match=lambda n1, n2: node_equal(n1, n2),\n",
    "                            edge_match=lambda e1, e2: e1['bondType'] == e2['bondType'])\n",
    "    \n",
    "bgc_graphs = defaultdict(list)\n",
    "for record in parsed_rban_records:\n",
    "    bgc_id = record['compound_id'].split('.')[0]\n",
    "    graph = build_graph(record)\n",
    "    if bgc_id.startswith('BGC') and not any(graphs_equal(graph, bgc_graph) \n",
    "                                            for bgc_graph, compound_id in bgc_graphs[bgc_id]):\n",
    "        bgc_graphs[bgc_id].append((graph, record['compound_id']))"
   ],
   "metadata": {
    "collapsed": false,
    "ExecuteTime": {
     "end_time": "2024-05-21T14:25:53.476697205Z",
     "start_time": "2024-05-21T14:25:53.355421090Z"
    }
   },
   "id": "f7dba5680ce2dfb0",
   "execution_count": 22
  },
  {
   "cell_type": "code",
   "outputs": [
    {
     "name": "stdout",
     "output_type": "stream",
     "text": [
      "Number of MIBiG BGCs with graphs: 684\n"
     ]
    }
   ],
   "source": [
    "print('Number of MIBiG BGCs with graphs:', len(bgc_graphs))"
   ],
   "metadata": {
    "collapsed": false,
    "ExecuteTime": {
     "end_time": "2024-05-21T14:25:53.520001020Z",
     "start_time": "2024-05-21T14:25:53.478442496Z"
    }
   },
   "id": "db5666f5e79a27a1",
   "execution_count": 23
  },
  {
   "cell_type": "code",
   "outputs": [
    {
     "name": "stdout",
     "output_type": "stream",
     "text": [
      "Number of unique BGCs (grouped by compounds monomer graphs): 474\n",
      "Number of unique compounds: 799\n",
      "Duplicates: ['BGC0000064', 'BGC0000145', 'BGC0000150', 'BGC0000153', 'BGC0000287', 'BGC0000292', 'BGC0000293', 'BGC0000300', 'BGC0000303', 'BGC0000309', 'BGC0000327', 'BGC0000360', 'BGC0000373', 'BGC0000375', 'BGC0000384', 'BGC0000407', 'BGC0000409', 'BGC0000412', 'BGC0000414', 'BGC0000415', 'BGC0000418', 'BGC0000436', 'BGC0000440', 'BGC0000442', 'BGC0000444', 'BGC0000448', 'BGC0000453', 'BGC0000467', 'BGC0000816', 'BGC0000818', 'BGC0000893', 'BGC0000959', 'BGC0000961', 'BGC0000963', 'BGC0000967', 'BGC0000971', 'BGC0000973', 'BGC0000974', 'BGC0000976', 'BGC0000977', 'BGC0000978', 'BGC0000979', 'BGC0000980', 'BGC0000981', 'BGC0000983', 'BGC0000989', 'BGC0000990', 'BGC0000991', 'BGC0000994', 'BGC0000995', 'BGC0000996', 'BGC0000999', 'BGC0001001', 'BGC0001006', 'BGC0001011', 'BGC0001013', 'BGC0001015', 'BGC0001017', 'BGC0001022', 'BGC0001024', 'BGC0001026', 'BGC0001030', 'BGC0001031', 'BGC0001037', 'BGC0001041', 'BGC0001043', 'BGC0001046', 'BGC0001049', 'BGC0001070', 'BGC0001071', 'BGC0001073', 'BGC0001084', 'BGC0001091', 'BGC0001100', 'BGC0001102', 'BGC0001106', 'BGC0001108', 'BGC0001109', 'BGC0001110', 'BGC0001112', 'BGC0001114', 'BGC0001115', 'BGC0001123', 'BGC0001136', 'BGC0001147', 'BGC0001159', 'BGC0001165', 'BGC0001172', 'BGC0001182', 'BGC0001187', 'BGC0001193', 'BGC0001215', 'BGC0001218', 'BGC0001255', 'BGC0001268', 'BGC0001327', 'BGC0001329', 'BGC0001331', 'BGC0001342', 'BGC0001345', 'BGC0001349', 'BGC0001367', 'BGC0001390', 'BGC0001415', 'BGC0001418', 'BGC0001419', 'BGC0001420', 'BGC0001423', 'BGC0001425', 'BGC0001426', 'BGC0001427', 'BGC0001429', 'BGC0001430', 'BGC0001431', 'BGC0001432', 'BGC0001434', 'BGC0001445', 'BGC0001449', 'BGC0001451', 'BGC0001455', 'BGC0001460', 'BGC0001477', 'BGC0001516', 'BGC0001544', 'BGC0001553', 'BGC0001562', 'BGC0001563', 'BGC0001609', 'BGC0001616', 'BGC0001630', 'BGC0001668', 'BGC0001671', 'BGC0001695', 'BGC0001702', 'BGC0001705', 'BGC0001710', 'BGC0001717', 'BGC0001718', 'BGC0001737', 'BGC0001738', 'BGC0001740', 'BGC0001741', 'BGC0001751', 'BGC0001763', 'BGC0001793', 'BGC0001794', 'BGC0001818', 'BGC0001881', 'BGC0001902', 'BGC0001952', 'BGC0001970', 'BGC0002002', 'BGC0002035', 'BGC0002037', 'BGC0002054', 'BGC0002055', 'BGC0002056', 'BGC0002058', 'BGC0002066', 'BGC0002067', 'BGC0002068', 'BGC0002078', 'BGC0002090', 'BGC0002091', 'BGC0002093', 'BGC0002118', 'BGC0002119', 'BGC0002158', 'BGC0002164', 'BGC0002169', 'BGC0002171', 'BGC0002197', 'BGC0002198', 'BGC0002210', 'BGC0002227', 'BGC0002228', 'BGC0002230', 'BGC0002250', 'BGC0002268', 'BGC0002270', 'BGC0002271', 'BGC0002273', 'BGC0002274', 'BGC0002277', 'BGC0002295', 'BGC0002304', 'BGC0002340', 'BGC0002348', 'BGC0002384', 'BGC0002410', 'BGC0002412', 'BGC0002419', 'BGC0002456', 'BGC0002458', 'BGC0002476', 'BGC0002492', 'BGC0002499', 'BGC0002505', 'BGC0002509', 'BGC0002528', 'BGC0002536', 'BGC0002546', 'BGC0002563', 'BGC0002570', 'BGC0002605', 'BGC0002606', 'BGC0002607', 'BGC0002608', 'BGC0002613', 'BGC0002649']\n"
     ]
    }
   ],
   "source": [
    "def identical_graph_sets(graphs1, graphs2):\n",
    "    return all(any(graphs_equal(graph1, graph2) for graph2, compound_id2 in graphs2) for graph1, compound_id1 in graphs1)\n",
    "\n",
    "filtered_bgcs = []\n",
    "duplicates = []\n",
    "for bgc_id, graphs in bgc_graphs.items():\n",
    "    if not any(identical_graph_sets(bgc_graphs[bgc_id], bgc_graphs[other_bgc_id]) \n",
    "               for other_bgc_id in filtered_bgcs):\n",
    "        filtered_bgcs.append(bgc_id)\n",
    "    else:\n",
    "        duplicates.append(bgc_id)\n",
    "\n",
    "print('Number of unique BGCs (grouped by compounds monomer graphs):', len(filtered_bgcs))\n",
    "print('Number of unique compounds:', sum(len(bgc_graphs[bgc_id]) for bgc_id in filtered_bgcs))\n",
    "print('Duplicates:', sorted(duplicates))"
   ],
   "metadata": {
    "collapsed": false,
    "ExecuteTime": {
     "end_time": "2024-05-21T14:33:22.138502063Z",
     "start_time": "2024-05-21T14:33:20.641132366Z"
    }
   },
   "id": "a9768af474fa327e",
   "execution_count": 34
  },
  {
   "cell_type": "code",
   "outputs": [],
   "source": [
    "import json\n",
    "from pathlib import Path\n",
    "pnrp_rban_json = Path('/home/ilianolhin/git/nerpa2/training/mibig_filtering/pnrpdb-mibig.rban.json') \n",
    "rban_records = json.loads(pnrp_rban_json.read_text())\n"
   ],
   "metadata": {
    "collapsed": false,
    "ExecuteTime": {
     "end_time": "2024-05-21T14:25:57.538411016Z",
     "start_time": "2024-05-21T14:25:54.969630200Z"
    }
   },
   "id": "56753d6bc41fa9b5",
   "execution_count": 25
  },
  {
   "cell_type": "code",
   "outputs": [
    {
     "name": "stdout",
     "output_type": "stream",
     "text": [
      "{'id': 'BGC0000963.0', 'isomericSmiles': 'CC1=C(N=C(N=C1N)C(CC(=O)N)NCC(C(=O)N)N)C(=O)NC(C(C2=CN=CN2)OC3C(C(C(C(O3)CO)O)O)OC4C(C(C(C(O4)CO)O)OC(=O)N)O)C(=O)NC(C)C(C(C)C(=O)NC(C(C)O)C(=O)NCCC5=NC(=CS5)C6=NC(=CS6)C(=O)NCCC[S+](C)C)O', 'canonicalSmiles': None, 'coverage': 0.53125, 'correctness': 0.0, 'missingMonomers': 5, 'monomericGraph': {'monomericGraph': {'monomers': [{'monomer': {'index': 1, 'atoms': [66, 67, 68, 71, 69, 70, 72], 'bonds': [70, 71, 74, 72, 73, 75], 'monomer': {'id': 769, 'cid': '205', 'monomer': 'aThr/Thr', 'codes': ['aThr', 'D-aThr', 'D-Thr', 'Thr'], 'names': ['allo-Threonine', 'D-allo-Threonine', 'D-Threonine', 'Threonine'], 'smiles': 'CC(O)C(N)C(=O)O', 'mwHeavyAtoms': 109.98781786, 'isNew': False, 'isIdentified': True, 'compounds': None, 'compoundsCount': 0}}}, {'monomer': {'index': 2, 'atoms': [58, 59, 60, 61, 62, 95, 63, 64, 65], 'bonds': [62, 63, 64, 65, 100, 66, 67, 68], 'monomer': {'id': 7662, 'cid': '0', 'monomer': 'X0', 'codes': ['X0'], 'names': [], 'smiles': '[NH]C(C)C(C(C)C(=O)[O])O', 'mwHeavyAtoms': 133.98781786, 'isNew': False, 'isIdentified': False, 'compounds': None, 'compoundsCount': 0}}}, {'monomer': {'index': 3, 'atoms': [31, 32, 36, 33, 41, 35, 34, 40, 37, 39, 38], 'bonds': [33, 38, 34, 43, 37, 35, 42, 36, 39, 41, 40], 'monomer': {'id': 797, 'cid': '206', 'monomer': 'Gal/Man/bGal/Glc', 'codes': ['bD-Gal', 'D-Gal', 'D-Glc', 'D-Man', 'Glc'], 'names': ['beta-D-galactose', 'D-galactose', 'D-Glucose', 'D-mannose', 'L-glucose'], 'smiles': 'OCC1OC(O)C(O)C(O)C1O', 'mwHeavyAtoms': 167.96948772000002, 'isNew': False, 'isIdentified': True, 'compounds': None, 'compoundsCount': 0}}}, {'monomer': {'index': 4, 'atoms': [42, 43, 47, 44, 55, 46, 45, 51, 48, 50, 52, 49, 53, 54], 'bonds': [45, 50, 46, 58, 49, 47, 54, 48, 51, 53, 55, 52, 56, 57], 'monomer': {'id': 7660, 'cid': '0', 'monomer': 'X1', 'codes': ['X1'], 'names': [], 'smiles': 'C1(C(C(C(C(O1)CO)O)OC(=O)N)O)[O]', 'mwHeavyAtoms': 209.96747634000002, 'isNew': False, 'isIdentified': False, 'compounds': None, 'compoundsCount': 0}}}, {'monomer': {'index': 5, 'atoms': [22, 23, 24, 56, 25, 30, 57, 26, 29, 27, 28], 'bonds': [23, 24, 59, 25, 31, 60, 26, 30, 27, 29, 28], 'monomer': {'id': 76, 'cid': '429096', 'monomer': 'OH-His', 'codes': ['OH-His'], 'names': ['Hydroxyhistidine'], 'smiles': 'NC(C(=O)O)C(O)c1cnc[nH]1', 'mwHeavyAtoms': 161.99396586, 'isNew': False, 'isIdentified': True, 'compounds': None, 'compoundsCount': 0}}}, {'monomer': {'index': 6, 'atoms': [82, 83, 85, 84, 86, 87], 'bonds': [87, 88, 89, 91, 92], 'monomer': {'id': 689, 'cid': '132279032', 'monomer': 'dhCys', 'codes': ['dhCys'], 'names': ['dehydro-cysteine'], 'smiles': 'NC(=CS)C(=O)O', 'mwHeavyAtoms': 113.96497424, 'isNew': False, 'isIdentified': True, 'compounds': None, 'compoundsCount': 0}}}, {'monomer': {'index': 7, 'atoms': [77, 78, 80, 79, 81], 'bonds': [81, 82, 83, 85], 'monomer': {'id': 689, 'cid': '132279032', 'monomer': 'dhCys', 'codes': ['dhCys'], 'names': ['dehydro-cysteine'], 'smiles': 'NC(=CS)C(=O)O', 'mwHeavyAtoms': 113.96497424, 'isNew': False, 'isIdentified': True, 'compounds': None, 'compoundsCount': 0}}}, {'monomer': {'index': 8, 'atoms': [0, 1, 2, 6, 3, 20, 5, 7, 21], 'bonds': [0, 1, 6, 2, 20, 5, 7, 21], 'monomer': {'id': 7664, 'cid': '0', 'monomer': 'X2', 'codes': ['X2'], 'names': [], 'smiles': 'CC(=C([N])C(=O)[O])C(=[N])N', 'mwHeavyAtoms': 133.99905124, 'isNew': False, 'isIdentified': False, 'compounds': None, 'compoundsCount': 0}}}, {'monomer': {'index': 9, 'atoms': [73, 74, 75, 76], 'bonds': [77, 78, 79], 'monomer': {'id': 28, 'cid': '239', 'monomer': 'bAla', 'codes': ['bAla'], 'names': ['beta-Alanine'], 'smiles': 'NCCC(=O)O', 'mwHeavyAtoms': 81.99290324, 'isNew': False, 'isIdentified': True, 'compounds': None, 'compoundsCount': 0}}}, {'monomer': {'index': 10, 'atoms': [4, 8, 9, 13, 10, 11, 12], 'bonds': [8, 9, 13, 10, 11, 12], 'monomer': {'id': 130, 'cid': '236', 'monomer': 'Asn', 'codes': ['Asn', 'D-Asn'], 'names': ['Asparagine', 'D-Asparagine'], 'smiles': 'NC(=O)CC(N)C(=O)O', 'mwHeavyAtoms': 123.99089186, 'isNew': False, 'isIdentified': True, 'compounds': None, 'compoundsCount': 0}}}, {'monomer': {'index': 11, 'atoms': [88, 89, 90, 91, 92, 93, 94], 'bonds': [94, 95, 96, 97, 98, 99], 'monomer': {'id': 7663, 'cid': '0', 'monomer': 'X3', 'codes': ['X3'], 'names': [], 'smiles': '[NH]CCC[S+](C)C', 'mwHeavyAtoms': 105.975145, 'isNew': False, 'isIdentified': False, 'compounds': None, 'compoundsCount': 0}}}, {'monomer': {'index': 12, 'atoms': [14, 15, 16, 19, 17, 18], 'bonds': [15, 16, 19, 17, 18], 'monomer': {'id': 7661, 'cid': '0', 'monomer': 'X4', 'codes': ['X4'], 'names': [], 'smiles': '[CH2]C(C(=O)N)N', 'mwHeavyAtoms': 80.00106262, 'isNew': False, 'isIdentified': False, 'compounds': None, 'compoundsCount': 0}}}], 'bonds': [{'bond': {'bondTypes': ['AMINO'], 'index': 1, 'atomicIndexes': [69], 'monomers': [1, 2]}}, {'bond': {'bondTypes': ['GLYCOSIDIC'], 'index': 2, 'atomicIndexes': [44], 'monomers': [3, 4]}}, {'bond': {'bondTypes': ['GLYCOSIDIC'], 'index': 3, 'atomicIndexes': [32], 'monomers': [5, 3]}}, {'bond': {'bondTypes': ['THIAZOLE_CYCLE', 'THIAZOLE_CYCLE'], 'index': 4, 'atomicIndexes': [90, 86], 'monomers': [6, 7]}}, {'bond': {'bondTypes': ['AMINO'], 'index': 5, 'atomicIndexes': [22], 'monomers': [5, 8]}}, {'bond': {'bondTypes': ['AMINO'], 'index': 6, 'atomicIndexes': [76], 'monomers': [9, 1]}}, {'bond': {'bondTypes': ['THIAZOLE_CYCLE', 'THIAZOLE_CYCLE'], 'index': 7, 'atomicIndexes': [84, 80], 'monomers': [7, 9]}}, {'bond': {'bondTypes': ['PYRIMIDINE_CYCLE', 'PYRIMIDINE_CYCLE'], 'index': 8, 'atomicIndexes': [3, 4], 'monomers': [8, 10]}}, {'bond': {'bondTypes': ['AMINO'], 'index': 9, 'atomicIndexes': [61], 'monomers': [2, 5]}}, {'bond': {'bondTypes': ['AMINO'], 'index': 10, 'atomicIndexes': [93], 'monomers': [11, 6]}}, {'bond': {'bondTypes': ['NITROGEN_CARBON2'], 'index': 11, 'atomicIndexes': [14], 'monomers': [10, 12]}}]}}, 'atomicGraph': {'atomicGraph': {'atoms': [{'res': 7664, 'cdk_idx': 0, 'name': 'C', 'hydrogens': 3, 'matchIdx': 8, 'x': -1.2993991998055203, 'y': 0.7497916764569916, 'monName': 'X2'}, {'res': 7664, 'cdk_idx': 1, 'name': 'C', 'hydrogens': 0, 'matchIdx': 8, 'x': -1.300120220076984, 'y': -0.7502081502529216, 'monName': 'X2'}, {'res': 7664, 'cdk_idx': 2, 'name': 'C', 'hydrogens': 0, 'matchIdx': 8, 'x': -2.5993985991498856, 'y': -1.4997918304872857, 'monName': 'X2'}, {'res': 7664, 'cdk_idx': 3, 'name': 'N', 'hydrogens': 0, 'matchIdx': 8, 'x': -2.599398599149888, 'y': -3.0006249324676486, 'monName': 'X2'}, {'res': 130, 'cdk_idx': 4, 'name': 'C', 'hydrogens': 0, 'matchIdx': 10, 'x': -1.3001202200769884, 'y': -3.751874354213648, 'monName': 'Asn'}, {'res': 7664, 'cdk_idx': 5, 'name': 'N', 'hydrogens': 0, 'matchIdx': 8, 'x': -0.0008418410040866853, 'y': -3.002290673979284, 'monName': 'X2'}, {'res': 7664, 'cdk_idx': 6, 'name': 'C', 'hydrogens': 0, 'matchIdx': 8, 'x': -0.0008418410040844648, 'y': -1.501457571998921, 'monName': 'X2'}, {'res': 7664, 'cdk_idx': 7, 'name': 'N', 'hydrogens': 2, 'matchIdx': 8, 'x': 1.2984365380688176, 'y': -0.7518738917645571, 'monName': 'X2'}, {'res': 130, 'cdk_idx': 8, 'name': 'C', 'hydrogens': 1, 'matchIdx': 10, 'x': -1.3008412403484515, 'y': -5.251874180923561, 'monName': 'Asn'}, {'res': 130, 'cdk_idx': 9, 'name': 'C', 'hydrogens': 2, 'matchIdx': 10, 'x': -2.6002397060872235, 'y': -6.001249672406788, 'monName': 'Asn'}, {'res': 130, 'cdk_idx': 10, 'name': 'C', 'hydrogens': 0, 'matchIdx': 10, 'x': -2.600960726358686, 'y': -7.501249499116701, 'monName': 'Asn'}, {'res': 130, 'cdk_idx': 11, 'name': 'O', 'hydrogens': 0, 'matchIdx': 10, 'x': -1.302283280891377, 'y': -8.251873834343385, 'monName': 'Asn'}, {'res': 130, 'cdk_idx': 12, 'name': 'N', 'hydrogens': 2, 'matchIdx': 10, 'x': -3.9003591920974565, 'y': -8.250624990599928, 'monName': 'Asn'}, {'res': 130, 'cdk_idx': 13, 'name': 'N', 'hydrogens': 1, 'matchIdx': 10, 'x': -0.002163794881143488, 'y': -6.002498516150249, 'monName': 'Asn'}, {'res': 7661, 'cdk_idx': 14, 'name': 'C', 'hydrogens': 2, 'matchIdx': 12, 'x': -0.0028848151526057464, 'y': -7.502498342860163, 'monName': 'X4'}, {'res': 7661, 'cdk_idx': 15, 'name': 'C', 'hydrogens': 1, 'matchIdx': 12, 'x': 1.2957926303147032, 'y': -8.253122678086847, 'monName': 'X4'}, {'res': 7661, 'cdk_idx': 16, 'name': 'C', 'hydrogens': 0, 'matchIdx': 12, 'x': 1.2950716100432444, 'y': -9.753122504796762, 'monName': 'X4'}, {'res': 7661, 'cdk_idx': 17, 'name': 'O', 'hydrogens': 0, 'matchIdx': 12, 'x': -0.004326855695525822, 'y': -10.50249799627999, 'monName': 'X4'}, {'res': 7661, 'cdk_idx': 18, 'name': 'N', 'hydrogens': 2, 'matchIdx': 12, 'x': 2.5937490555105542, 'y': -10.503746840023444, 'monName': 'X4'}, {'res': 7661, 'cdk_idx': 19, 'name': 'N', 'hydrogens': 2, 'matchIdx': 12, 'x': 2.5951910960534743, 'y': -7.50374718660362, 'monName': 'X4'}, {'res': 7664, 'cdk_idx': 20, 'name': 'C', 'hydrogens': 0, 'matchIdx': 8, 'x': -3.8983165181023387, 'y': -0.7495836994834761, 'monName': 'X2'}, {'res': 7664, 'cdk_idx': 21, 'name': 'O', 'hydrogens': 0, 'matchIdx': 8, 'x': -5.1974747771535075, 'y': -1.499375549225213, 'monName': 'X2'}, {'res': 76, 'cdk_idx': 22, 'name': 'N', 'hydrogens': 1, 'matchIdx': 5, 'x': -3.898076178003623, 'y': 0.7504162812620696, 'monName': 'OH-His'}, {'res': 76, 'cdk_idx': 23, 'name': 'C', 'hydrogens': 1, 'matchIdx': 5, 'x': -5.196994096956077, 'y': 1.500624412265878, 'monName': 'OH-His'}, {'res': 76, 'cdk_idx': 24, 'name': 'C', 'hydrogens': 1, 'matchIdx': 5, 'x': -5.19675375685736, 'y': 3.0006243930114236, 'monName': 'OH-His'}, {'res': 76, 'cdk_idx': 25, 'name': 'C', 'hydrogens': 0, 'matchIdx': 5, 'x': -3.89759549780619, 'y': 3.7504162427531584, 'monName': 'OH-His'}, {'res': 76, 'cdk_idx': 26, 'name': 'C', 'hydrogens': 1, 'matchIdx': 5, 'x': -3.737393929257111, 'y': 5.244683774835153, 'monName': 'OH-His'}, {'res': 76, 'cdk_idx': 27, 'name': 'N', 'hydrogens': 0, 'matchIdx': 5, 'x': -2.2744063064552242, 'y': 5.553013493688985, 'monName': 'OH-His'}, {'res': 76, 'cdk_idx': 28, 'name': 'C', 'hydrogens': 1, 'matchIdx': 5, 'x': -1.5287934308215085, 'y': 4.253682342792793, 'monName': 'OH-His'}, {'res': 76, 'cdk_idx': 29, 'name': 'N', 'hydrogens': 1, 'matchIdx': 5, 'x': -2.5350705861654745, 'y': 3.146656468373926, 'monName': 'OH-His'}, {'res': 76, 'cdk_idx': 30, 'name': 'O', 'hydrogens': 0, 'matchIdx': 5, 'x': -6.495671675809812, 'y': 3.7508325240152347, 'monName': 'OH-His'}, {'res': 797, 'cdk_idx': 31, 'name': 'C', 'hydrogens': 1, 'matchIdx': 3, 'x': -6.495431335711093, 'y': 5.25083250476078, 'monName': 'Gal/Man/bGal/Glc'}, {'res': 797, 'cdk_idx': 32, 'name': 'C', 'hydrogens': 1, 'matchIdx': 3, 'x': -7.78310980187674, 'y': 6.000488537734094, 'monName': 'Gal/Man/bGal/Glc'}, {'res': 797, 'cdk_idx': 33, 'name': 'C', 'hydrogens': 1, 'matchIdx': 3, 'x': -7.77578743326004, 'y': 7.523625558135687, 'monName': 'Gal/Man/bGal/Glc'}, {'res': 797, 'cdk_idx': 34, 'name': 'C', 'hydrogens': 1, 'matchIdx': 3, 'x': -6.464922683494134, 'y': 8.264728525219997, 'monName': 'Gal/Man/bGal/Glc'}, {'res': 797, 'cdk_idx': 35, 'name': 'C', 'hydrogens': 1, 'matchIdx': 3, 'x': -5.177244217328486, 'y': 7.515072492246684, 'monName': 'Gal/Man/bGal/Glc'}, {'res': 797, 'cdk_idx': 36, 'name': 'O', 'hydrogens': 0, 'matchIdx': 3, 'x': -5.183146226215112, 'y': 6.014250995102168, 'monName': 'Gal/Man/bGal/Glc'}, {'res': 797, 'cdk_idx': 37, 'name': 'C', 'hydrogens': 2, 'matchIdx': 3, 'x': -3.8753861571165205, 'y': 8.260166842689056, 'monName': 'Gal/Man/bGal/Glc'}, {'res': 797, 'cdk_idx': 38, 'name': 'O', 'hydrogens': 1, 'matchIdx': 3, 'x': -3.8697277627098954, 'y': 9.760156170175335, 'monName': 'Gal/Man/bGal/Glc'}, {'res': 797, 'cdk_idx': 39, 'name': 'O', 'hydrogens': 1, 'matchIdx': 3, 'x': -6.455430907501964, 'y': 9.764698493648872, 'monName': 'Gal/Man/bGal/Glc'}, {'res': 797, 'cdk_idx': 40, 'name': 'O', 'hydrogens': 1, 'matchIdx': 3, 'x': -9.06960025378483, 'y': 8.28260407261794, 'monName': 'Gal/Man/bGal/Glc'}, {'res': 797, 'cdk_idx': 41, 'name': 'O', 'hydrogens': 0, 'matchIdx': 3, 'x': -9.085293675470536, 'y': 5.255963750133132, 'monName': 'Gal/Man/bGal/Glc'}, {'res': 7660, 'cdk_idx': 42, 'name': 'C', 'hydrogens': 1, 'matchIdx': 4, 'x': -10.381162992077078, 'y': 6.011425671263305, 'monName': 'X1'}, {'res': 7660, 'cdk_idx': 43, 'name': 'C', 'hydrogens': 1, 'matchIdx': 4, 'x': -11.677210759989114, 'y': 5.276333715593656, 'monName': 'X1'}, {'res': 7660, 'cdk_idx': 44, 'name': 'C', 'hydrogens': 1, 'matchIdx': 4, 'x': -12.98950450837642, 'y': 6.049564029241276, 'monName': 'X1'}, {'res': 7660, 'cdk_idx': 45, 'name': 'C', 'hydrogens': 1, 'matchIdx': 4, 'x': -12.969788561233734, 'y': 7.555290193398712, 'monName': 'X1'}, {'res': 7660, 'cdk_idx': 46, 'name': 'C', 'hydrogens': 1, 'matchIdx': 4, 'x': -11.673740793321699, 'y': 8.290382149068362, 'monName': 'X1'}, {'res': 7660, 'cdk_idx': 47, 'name': 'O', 'hydrogens': 0, 'matchIdx': 4, 'x': -10.380012358217959, 'y': 7.529614946696947, 'monName': 'X1'}, {'res': 7660, 'cdk_idx': 48, 'name': 'C', 'hydrogens': 2, 'matchIdx': 4, 'x': -11.662008269590267, 'y': 9.790336264328856, 'monName': 'X1'}, {'res': 7660, 'cdk_idx': 49, 'name': 'O', 'hydrogens': 1, 'matchIdx': 4, 'x': -12.95514037605115, 'y': 10.550473985561029, 'monName': 'X1'}, {'res': 7660, 'cdk_idx': 50, 'name': 'O', 'hydrogens': 1, 'matchIdx': 4, 'x': -14.260973823031154, 'y': 8.3187301843064, 'monName': 'X1'}, {'res': 7660, 'cdk_idx': 51, 'name': 'O', 'hydrogens': 0, 'matchIdx': 4, 'x': -14.296695505224672, 'y': 5.313865926920174, 'monName': 'X1'}, {'res': 7660, 'cdk_idx': 52, 'name': 'C', 'hydrogens': 0, 'matchIdx': 4, 'x': -15.587424249774877, 'y': 6.078077486628515, 'monName': 'X1'}, {'res': 7660, 'cdk_idx': 53, 'name': 'O', 'hydrogens': 0, 'matchIdx': 4, 'x': -15.570961997476827, 'y': 7.577987148657957, 'monName': 'X1'}, {'res': 7660, 'cdk_idx': 54, 'name': 'N', 'hydrogens': 2, 'matchIdx': 4, 'x': -16.89461524662313, 'y': 5.342379384307414, 'monName': 'X1'}, {'res': 7660, 'cdk_idx': 55, 'name': 'O', 'hydrogens': 1, 'matchIdx': 4, 'x': -11.689599430316587, 'y': 3.7763848761836183, 'monName': 'X1'}, {'res': 76, 'cdk_idx': 56, 'name': 'C', 'hydrogens': 0, 'matchIdx': 5, 'x': -6.496152356007247, 'y': 0.7508325625241429, 'monName': 'OH-His'}, {'res': 76, 'cdk_idx': 57, 'name': 'O', 'hydrogens': 0, 'matchIdx': 5, 'x': -6.496392696105966, 'y': -0.7491674182214026, 'monName': 'OH-His'}, {'res': 7662, 'cdk_idx': 58, 'name': 'N', 'hydrogens': 1, 'matchIdx': 2, 'x': -7.795070274959699, 'y': 1.5010406935279534, 'monName': 'X0'}, {'res': 7662, 'cdk_idx': 59, 'name': 'C', 'hydrogens': 1, 'matchIdx': 2, 'x': -9.09422853401087, 'y': 0.7512488437862206, 'monName': 'X0'}, {'res': 7662, 'cdk_idx': 60, 'name': 'C', 'hydrogens': 3, 'matchIdx': 2, 'x': -9.094468874109591, 'y': -0.7487511369593249, 'monName': 'X0'}, {'res': 7662, 'cdk_idx': 61, 'name': 'C', 'hydrogens': 1, 'matchIdx': 2, 'x': -10.393146452963322, 'y': 1.5014569747900337, 'monName': 'X0'}, {'res': 7662, 'cdk_idx': 62, 'name': 'C', 'hydrogens': 1, 'matchIdx': 2, 'x': -11.692304712014494, 'y': 0.7516651250483031, 'monName': 'X0'}, {'res': 7662, 'cdk_idx': 63, 'name': 'C', 'hydrogens': 3, 'matchIdx': 2, 'x': -11.692545052113216, 'y': -0.7483348556972425, 'monName': 'X0'}, {'res': 7662, 'cdk_idx': 64, 'name': 'C', 'hydrogens': 0, 'matchIdx': 2, 'x': -12.991222630966943, 'y': 1.5018732560521177, 'monName': 'X0'}, {'res': 7662, 'cdk_idx': 65, 'name': 'O', 'hydrogens': 0, 'matchIdx': 2, 'x': -12.990982290868219, 'y': 3.001873236797663, 'monName': 'X0'}, {'res': 769, 'cdk_idx': 66, 'name': 'N', 'hydrogens': 1, 'matchIdx': 1, 'x': -14.290380890018117, 'y': 0.7520814063103896, 'monName': 'aThr/Thr'}, {'res': 769, 'cdk_idx': 67, 'name': 'C', 'hydrogens': 1, 'matchIdx': 1, 'x': -15.589298808970565, 'y': 1.5022895373142073, 'monName': 'aThr/Thr'}, {'res': 769, 'cdk_idx': 68, 'name': 'C', 'hydrogens': 1, 'matchIdx': 1, 'x': -15.589058468871837, 'y': 3.0022895180597526, 'monName': 'aThr/Thr'}, {'res': 769, 'cdk_idx': 69, 'name': 'C', 'hydrogens': 3, 'matchIdx': 1, 'x': -16.887976387824285, 'y': 3.752497649063573, 'monName': 'aThr/Thr'}, {'res': 769, 'cdk_idx': 70, 'name': 'O', 'hydrogens': 1, 'matchIdx': 1, 'x': -14.289900209820662, 'y': 3.7520813678014786, 'monName': 'aThr/Thr'}, {'res': 769, 'cdk_idx': 71, 'name': 'C', 'hydrogens': 0, 'matchIdx': 1, 'x': -16.88845706802174, 'y': 0.7524976875724814, 'monName': 'aThr/Thr'}, {'res': 769, 'cdk_idx': 72, 'name': 'O', 'hydrogens': 0, 'matchIdx': 1, 'x': -16.88869740812047, 'y': -0.7475022931730642, 'monName': 'aThr/Thr'}, {'res': 28, 'cdk_idx': 73, 'name': 'N', 'hydrogens': 1, 'matchIdx': 9, 'x': -18.187374986974188, 'y': 1.5027058185763014, 'monName': 'bAla'}, {'res': 28, 'cdk_idx': 74, 'name': 'C', 'hydrogens': 2, 'matchIdx': 9, 'x': -19.486533246025363, 'y': 0.7529139688345778, 'monName': 'bAla'}, {'res': 28, 'cdk_idx': 75, 'name': 'C', 'hydrogens': 2, 'matchIdx': 9, 'x': -20.785451164977808, 'y': 1.5031220998383996, 'monName': 'bAla'}, {'res': 28, 'cdk_idx': 76, 'name': 'C', 'hydrogens': 0, 'matchIdx': 9, 'x': -22.084609424028983, 'y': 0.7533302500966799, 'monName': 'bAla'}, {'res': 689, 'cdk_idx': 77, 'name': 'N', 'hydrogens': 0, 'matchIdx': 7, 'x': -23.446058536642894, 'y': 1.3652586068205672, 'monName': 'dhCys'}, {'res': 689, 'cdk_idx': 78, 'name': 'C', 'hydrogens': 0, 'matchIdx': 7, 'x': -24.452704536429913, 'y': 0.25320472722983733, 'monName': 'dhCys'}, {'res': 689, 'cdk_idx': 79, 'name': 'C', 'hydrogens': 1, 'matchIdx': 7, 'x': -23.708664970352043, 'y': -1.0407833423096986, 'monName': 'dhCys'}, {'res': 689, 'cdk_idx': 80, 'name': 'S', 'hydrogens': 0, 'matchIdx': 7, 'x': -22.236818561966682, 'y': -0.7410031726468072, 'monName': 'dhCys'}, {'res': 689, 'cdk_idx': 81, 'name': 'C', 'hydrogens': 0, 'matchIdx': 7, 'x': -25.944137526885857, 'y': 0.41329106324771936, 'monName': 'dhCys'}, {'res': 689, 'cdk_idx': 82, 'name': 'N', 'hydrogens': 0, 'matchIdx': 6, 'x': -26.68323635067253, 'y': 1.7101075223802986, 'monName': 'dhCys'}, {'res': 689, 'cdk_idx': 83, 'name': 'C', 'hydrogens': 0, 'matchIdx': 6, 'x': -28.151906568969295, 'y': 1.4051357369834736, 'monName': 'dhCys'}, {'res': 689, 'cdk_idx': 84, 'name': 'C', 'hydrogens': 1, 'matchIdx': 6, 'x': -28.313592145737978, 'y': -0.0787300838591587, 'monName': 'dhCys'}, {'res': 689, 'cdk_idx': 85, 'name': 'S', 'hydrogens': 0, 'matchIdx': 6, 'x': -26.9479149103098, 'y': -0.7041305064951348, 'monName': 'dhCys'}, {'res': 689, 'cdk_idx': 86, 'name': 'C', 'hydrogens': 0, 'matchIdx': 6, 'x': -29.26234199403011, 'y': 2.4135667791326214, 'monName': 'dhCys'}, {'res': 689, 'cdk_idx': 87, 'name': 'O', 'hydrogens': 0, 'matchIdx': 6, 'x': -28.944232806094536, 'y': 3.8794475875720287, 'monName': 'dhCys'}, {'res': 7663, 'cdk_idx': 88, 'name': 'N', 'hydrogens': 1, 'matchIdx': 11, 'x': -30.690886607026492, 'y': 1.9561170128423622, 'monName': 'X3'}, {'res': 7663, 'cdk_idx': 89, 'name': 'C', 'hydrogens': 2, 'matchIdx': 11, 'x': -31.801322032087302, 'y': 2.96454805499151, 'monName': 'X3'}, {'res': 7663, 'cdk_idx': 90, 'name': 'C', 'hydrogens': 2, 'matchIdx': 11, 'x': -33.22986664508369, 'y': 2.5070982887012536, 'monName': 'X3'}, {'res': 7663, 'cdk_idx': 91, 'name': 'C', 'hydrogens': 2, 'matchIdx': 11, 'x': -34.340302070144496, 'y': 3.5155293308504048, 'monName': 'X3'}, {'res': 7663, 'cdk_idx': 92, 'name': 'S', 'hydrogens': 0, 'matchIdx': 11, 'x': -35.76884668314088, 'y': 3.058079564560151, 'monName': 'X3'}, {'res': 7663, 'cdk_idx': 93, 'name': 'C', 'hydrogens': 3, 'matchIdx': 11, 'x': -36.879282108201686, 'y': 4.066510606709302, 'monName': 'X3'}, {'res': 7663, 'cdk_idx': 94, 'name': 'C', 'hydrogens': 3, 'matchIdx': 11, 'x': -36.086955871076455, 'y': 1.5921987561207442, 'monName': 'X3'}, {'res': 7662, 'cdk_idx': 95, 'name': 'O', 'hydrogens': 1, 'matchIdx': 2, 'x': -10.3929061128646, 'y': 3.0014569555355792, 'monName': 'X0'}], 'bonds': [{'arity': 1, 'res': 7664, 'cdk_idx': 0, 'matchIdx': 0, 'atoms': [0, 1], 'bondType': None}, {'arity': 2, 'res': 7664, 'cdk_idx': 1, 'matchIdx': 0, 'atoms': [1, 2], 'bondType': None}, {'arity': 1, 'res': 7664, 'cdk_idx': 2, 'matchIdx': 0, 'atoms': [2, 3], 'bondType': None}, {'arity': 2, 'res': None, 'cdk_idx': 3, 'matchIdx': 8, 'atoms': [3, 4], 'bondType': 'PYRIMIDINE_CYCLE'}, {'arity': 1, 'res': None, 'cdk_idx': 4, 'matchIdx': 10, 'atoms': [4, 5], 'bondType': 'PYRIMIDINE_CYCLE'}, {'arity': 2, 'res': 7664, 'cdk_idx': 5, 'matchIdx': 0, 'atoms': [5, 6], 'bondType': None}, {'arity': 1, 'res': 7664, 'cdk_idx': 6, 'matchIdx': 0, 'atoms': [1, 6], 'bondType': None}, {'arity': 1, 'res': 7664, 'cdk_idx': 7, 'matchIdx': 0, 'atoms': [6, 7], 'bondType': None}, {'arity': 1, 'res': 130, 'cdk_idx': 8, 'matchIdx': 0, 'atoms': [4, 8], 'bondType': None}, {'arity': 1, 'res': 130, 'cdk_idx': 9, 'matchIdx': 0, 'atoms': [8, 9], 'bondType': None}, {'arity': 1, 'res': 130, 'cdk_idx': 10, 'matchIdx': 0, 'atoms': [9, 10], 'bondType': None}, {'arity': 2, 'res': 130, 'cdk_idx': 11, 'matchIdx': 0, 'atoms': [10, 11], 'bondType': None}, {'arity': 1, 'res': 130, 'cdk_idx': 12, 'matchIdx': 0, 'atoms': [10, 12], 'bondType': None}, {'arity': 1, 'res': 130, 'cdk_idx': 13, 'matchIdx': 0, 'atoms': [8, 13], 'bondType': 'NITROGEN_CARBON2'}, {'arity': 1, 'res': None, 'cdk_idx': 14, 'matchIdx': 11, 'atoms': [13, 14], 'bondType': 'NITROGEN_CARBON2'}, {'arity': 1, 'res': 7661, 'cdk_idx': 15, 'matchIdx': 0, 'atoms': [14, 15], 'bondType': None}, {'arity': 1, 'res': 7661, 'cdk_idx': 16, 'matchIdx': 0, 'atoms': [15, 16], 'bondType': None}, {'arity': 2, 'res': 7661, 'cdk_idx': 17, 'matchIdx': 0, 'atoms': [16, 17], 'bondType': None}, {'arity': 1, 'res': 7661, 'cdk_idx': 18, 'matchIdx': 0, 'atoms': [16, 18], 'bondType': None}, {'arity': 1, 'res': 7661, 'cdk_idx': 19, 'matchIdx': 0, 'atoms': [15, 19], 'bondType': None}, {'arity': 1, 'res': 7664, 'cdk_idx': 20, 'matchIdx': 0, 'atoms': [2, 20], 'bondType': None}, {'arity': 2, 'res': 7664, 'cdk_idx': 21, 'matchIdx': 0, 'atoms': [20, 21], 'bondType': None}, {'arity': 1, 'res': None, 'cdk_idx': 22, 'matchIdx': 5, 'atoms': [20, 22], 'bondType': 'AMINO'}, {'arity': 1, 'res': 76, 'cdk_idx': 23, 'matchIdx': 0, 'atoms': [22, 23], 'bondType': None}, {'arity': 1, 'res': 76, 'cdk_idx': 24, 'matchIdx': 0, 'atoms': [23, 24], 'bondType': None}, {'arity': 1, 'res': 76, 'cdk_idx': 25, 'matchIdx': 0, 'atoms': [24, 25], 'bondType': None}, {'arity': 2, 'res': 76, 'cdk_idx': 26, 'matchIdx': 0, 'atoms': [25, 26], 'bondType': None}, {'arity': 1, 'res': 76, 'cdk_idx': 27, 'matchIdx': 0, 'atoms': [26, 27], 'bondType': None}, {'arity': 2, 'res': 76, 'cdk_idx': 28, 'matchIdx': 0, 'atoms': [27, 28], 'bondType': None}, {'arity': 1, 'res': 76, 'cdk_idx': 29, 'matchIdx': 0, 'atoms': [28, 29], 'bondType': None}, {'arity': 1, 'res': 76, 'cdk_idx': 30, 'matchIdx': 0, 'atoms': [25, 29], 'bondType': None}, {'arity': 1, 'res': 76, 'cdk_idx': 31, 'matchIdx': 0, 'atoms': [24, 30], 'bondType': None}, {'arity': 1, 'res': None, 'cdk_idx': 32, 'matchIdx': 3, 'atoms': [30, 31], 'bondType': 'GLYCOSIDIC'}, {'arity': 1, 'res': 797, 'cdk_idx': 33, 'matchIdx': 0, 'atoms': [31, 32], 'bondType': None}, {'arity': 1, 'res': 797, 'cdk_idx': 34, 'matchIdx': 0, 'atoms': [32, 33], 'bondType': None}, {'arity': 1, 'res': 797, 'cdk_idx': 35, 'matchIdx': 0, 'atoms': [33, 34], 'bondType': None}, {'arity': 1, 'res': 797, 'cdk_idx': 36, 'matchIdx': 0, 'atoms': [34, 35], 'bondType': None}, {'arity': 1, 'res': 797, 'cdk_idx': 37, 'matchIdx': 0, 'atoms': [35, 36], 'bondType': None}, {'arity': 1, 'res': 797, 'cdk_idx': 38, 'matchIdx': 0, 'atoms': [31, 36], 'bondType': None}, {'arity': 1, 'res': 797, 'cdk_idx': 39, 'matchIdx': 0, 'atoms': [35, 37], 'bondType': None}, {'arity': 1, 'res': 797, 'cdk_idx': 40, 'matchIdx': 0, 'atoms': [37, 38], 'bondType': None}, {'arity': 1, 'res': 797, 'cdk_idx': 41, 'matchIdx': 0, 'atoms': [34, 39], 'bondType': None}, {'arity': 1, 'res': 797, 'cdk_idx': 42, 'matchIdx': 0, 'atoms': [33, 40], 'bondType': None}, {'arity': 1, 'res': 797, 'cdk_idx': 43, 'matchIdx': 0, 'atoms': [32, 41], 'bondType': None}, {'arity': 1, 'res': None, 'cdk_idx': 44, 'matchIdx': 2, 'atoms': [41, 42], 'bondType': 'GLYCOSIDIC'}, {'arity': 1, 'res': 7660, 'cdk_idx': 45, 'matchIdx': 0, 'atoms': [42, 43], 'bondType': 'HETEROCYCLE'}, {'arity': 1, 'res': 7660, 'cdk_idx': 46, 'matchIdx': 0, 'atoms': [43, 44], 'bondType': 'HETEROCYCLE'}, {'arity': 1, 'res': 7660, 'cdk_idx': 47, 'matchIdx': 0, 'atoms': [44, 45], 'bondType': 'HETEROCYCLE'}, {'arity': 1, 'res': 7660, 'cdk_idx': 48, 'matchIdx': 0, 'atoms': [45, 46], 'bondType': 'HETEROCYCLE'}, {'arity': 1, 'res': 7660, 'cdk_idx': 49, 'matchIdx': 0, 'atoms': [46, 47], 'bondType': 'HETEROCYCLE'}, {'arity': 1, 'res': 7660, 'cdk_idx': 50, 'matchIdx': 0, 'atoms': [42, 47], 'bondType': 'HETEROCYCLE'}, {'arity': 1, 'res': 7660, 'cdk_idx': 51, 'matchIdx': 0, 'atoms': [46, 48], 'bondType': None}, {'arity': 1, 'res': 7660, 'cdk_idx': 52, 'matchIdx': 0, 'atoms': [48, 49], 'bondType': None}, {'arity': 1, 'res': 7660, 'cdk_idx': 53, 'matchIdx': 0, 'atoms': [45, 50], 'bondType': None}, {'arity': 1, 'res': 7660, 'cdk_idx': 54, 'matchIdx': 0, 'atoms': [44, 51], 'bondType': None}, {'arity': 1, 'res': 7660, 'cdk_idx': 55, 'matchIdx': 0, 'atoms': [51, 52], 'bondType': None}, {'arity': 2, 'res': 7660, 'cdk_idx': 56, 'matchIdx': 0, 'atoms': [52, 53], 'bondType': None}, {'arity': 1, 'res': 7660, 'cdk_idx': 57, 'matchIdx': 0, 'atoms': [52, 54], 'bondType': None}, {'arity': 1, 'res': 7660, 'cdk_idx': 58, 'matchIdx': 0, 'atoms': [43, 55], 'bondType': None}, {'arity': 1, 'res': 76, 'cdk_idx': 59, 'matchIdx': 0, 'atoms': [23, 56], 'bondType': None}, {'arity': 2, 'res': 76, 'cdk_idx': 60, 'matchIdx': 0, 'atoms': [56, 57], 'bondType': None}, {'arity': 1, 'res': None, 'cdk_idx': 61, 'matchIdx': 9, 'atoms': [56, 58], 'bondType': 'AMINO'}, {'arity': 1, 'res': 7662, 'cdk_idx': 62, 'matchIdx': 0, 'atoms': [58, 59], 'bondType': None}, {'arity': 1, 'res': 7662, 'cdk_idx': 63, 'matchIdx': 0, 'atoms': [59, 60], 'bondType': None}, {'arity': 1, 'res': 7662, 'cdk_idx': 64, 'matchIdx': 0, 'atoms': [59, 61], 'bondType': None}, {'arity': 1, 'res': 7662, 'cdk_idx': 65, 'matchIdx': 0, 'atoms': [61, 62], 'bondType': None}, {'arity': 1, 'res': 7662, 'cdk_idx': 66, 'matchIdx': 0, 'atoms': [62, 63], 'bondType': None}, {'arity': 1, 'res': 7662, 'cdk_idx': 67, 'matchIdx': 0, 'atoms': [62, 64], 'bondType': None}, {'arity': 2, 'res': 7662, 'cdk_idx': 68, 'matchIdx': 0, 'atoms': [64, 65], 'bondType': None}, {'arity': 1, 'res': None, 'cdk_idx': 69, 'matchIdx': 1, 'atoms': [64, 66], 'bondType': 'AMINO'}, {'arity': 1, 'res': 769, 'cdk_idx': 70, 'matchIdx': 0, 'atoms': [66, 67], 'bondType': None}, {'arity': 1, 'res': 769, 'cdk_idx': 71, 'matchIdx': 0, 'atoms': [67, 68], 'bondType': None}, {'arity': 1, 'res': 769, 'cdk_idx': 72, 'matchIdx': 0, 'atoms': [68, 69], 'bondType': None}, {'arity': 1, 'res': 769, 'cdk_idx': 73, 'matchIdx': 0, 'atoms': [68, 70], 'bondType': None}, {'arity': 1, 'res': 769, 'cdk_idx': 74, 'matchIdx': 0, 'atoms': [67, 71], 'bondType': None}, {'arity': 2, 'res': 769, 'cdk_idx': 75, 'matchIdx': 0, 'atoms': [71, 72], 'bondType': None}, {'arity': 1, 'res': None, 'cdk_idx': 76, 'matchIdx': 6, 'atoms': [71, 73], 'bondType': 'AMINO'}, {'arity': 1, 'res': 28, 'cdk_idx': 77, 'matchIdx': 0, 'atoms': [73, 74], 'bondType': None}, {'arity': 1, 'res': 28, 'cdk_idx': 78, 'matchIdx': 0, 'atoms': [74, 75], 'bondType': None}, {'arity': 1, 'res': 28, 'cdk_idx': 79, 'matchIdx': 0, 'atoms': [75, 76], 'bondType': None}, {'arity': 2, 'res': None, 'cdk_idx': 80, 'matchIdx': 10, 'atoms': [76, 77], 'bondType': 'THIAZOLE_CYCLE'}, {'arity': 1, 'res': 689, 'cdk_idx': 81, 'matchIdx': 0, 'atoms': [77, 78], 'bondType': None}, {'arity': 2, 'res': 689, 'cdk_idx': 82, 'matchIdx': 0, 'atoms': [78, 79], 'bondType': None}, {'arity': 1, 'res': 689, 'cdk_idx': 83, 'matchIdx': 0, 'atoms': [79, 80], 'bondType': None}, {'arity': 1, 'res': None, 'cdk_idx': 84, 'matchIdx': 7, 'atoms': [76, 80], 'bondType': 'THIAZOLE_CYCLE'}, {'arity': 1, 'res': 689, 'cdk_idx': 85, 'matchIdx': 0, 'atoms': [78, 81], 'bondType': None}, {'arity': 2, 'res': None, 'cdk_idx': 86, 'matchIdx': 9, 'atoms': [81, 82], 'bondType': 'THIAZOLE_CYCLE'}, {'arity': 1, 'res': 689, 'cdk_idx': 87, 'matchIdx': 0, 'atoms': [82, 83], 'bondType': None}, {'arity': 2, 'res': 689, 'cdk_idx': 88, 'matchIdx': 0, 'atoms': [83, 84], 'bondType': None}, {'arity': 1, 'res': 689, 'cdk_idx': 89, 'matchIdx': 0, 'atoms': [84, 85], 'bondType': None}, {'arity': 1, 'res': None, 'cdk_idx': 90, 'matchIdx': 4, 'atoms': [81, 85], 'bondType': 'THIAZOLE_CYCLE'}, {'arity': 1, 'res': 689, 'cdk_idx': 91, 'matchIdx': 0, 'atoms': [83, 86], 'bondType': None}, {'arity': 2, 'res': 689, 'cdk_idx': 92, 'matchIdx': 0, 'atoms': [86, 87], 'bondType': None}, {'arity': 1, 'res': None, 'cdk_idx': 93, 'matchIdx': 10, 'atoms': [86, 88], 'bondType': 'AMINO'}, {'arity': 1, 'res': 7663, 'cdk_idx': 94, 'matchIdx': 0, 'atoms': [88, 89], 'bondType': None}, {'arity': 1, 'res': 7663, 'cdk_idx': 95, 'matchIdx': 0, 'atoms': [89, 90], 'bondType': None}, {'arity': 1, 'res': 7663, 'cdk_idx': 96, 'matchIdx': 0, 'atoms': [90, 91], 'bondType': None}, {'arity': 1, 'res': 7663, 'cdk_idx': 97, 'matchIdx': 0, 'atoms': [91, 92], 'bondType': None}, {'arity': 1, 'res': 7663, 'cdk_idx': 98, 'matchIdx': 0, 'atoms': [92, 93], 'bondType': None}, {'arity': 1, 'res': 7663, 'cdk_idx': 99, 'matchIdx': 0, 'atoms': [92, 94], 'bondType': None}, {'arity': 1, 'res': 7662, 'cdk_idx': 100, 'matchIdx': 0, 'atoms': [61, 95], 'bondType': None}]}}, 'monomersNames': ['aThr/Thr', 'X0', 'Gal/Man/bGal/Glc', 'X1', 'OH-His', 'dhCys', 'dhCys', 'X2', 'bAla', 'Asn', 'X3', 'X4']}\n"
     ]
    }
   ],
   "source": [
    "print(next(record for record in rban_records if record['id'].startswith('BGC0000963')))"
   ],
   "metadata": {
    "collapsed": false,
    "ExecuteTime": {
     "end_time": "2024-05-21T14:25:57.545956139Z",
     "start_time": "2024-05-21T14:25:57.540906112Z"
    }
   },
   "id": "2253f55bfada87b2",
   "execution_count": 26
  },
  {
   "cell_type": "code",
   "outputs": [
    {
     "name": "stdout",
     "output_type": "stream",
     "text": [
      "Number of unique BGCs with SMILES: 474\n",
      "Number of unique compounds: 799\n"
     ]
    }
   ],
   "source": [
    "smiles_for_bgcs = defaultdict(list)\n",
    "for bgc_id in filtered_bgcs:\n",
    "    for graph, compound_id in bgc_graphs[bgc_id]:\n",
    "        try:\n",
    "            smiles = next(record['isomericSmiles'] for record in rban_records if record['id'] == compound_id)\n",
    "        except StopIteration:\n",
    "            print('No SMILES for', compound_id)\n",
    "            continue\n",
    "        smiles_for_bgcs[bgc_id].append((compound_id, smiles))\n",
    "\n",
    "print('Number of unique BGCs with SMILES:', len(smiles_for_bgcs))\n",
    "print('Number of unique compounds:', sum(len(smiles_for_bgcs[bgc_id]) for bgc_id in smiles_for_bgcs))"
   ],
   "metadata": {
    "collapsed": false,
    "ExecuteTime": {
     "end_time": "2024-05-21T14:25:57.590029505Z",
     "start_time": "2024-05-21T14:25:57.544703039Z"
    }
   },
   "id": "bf04bb6723365c55",
   "execution_count": 27
  },
  {
   "cell_type": "code",
   "outputs": [],
   "source": [
    "for bgc_id in sorted(filtered_bgcs):\n",
    "    if bgc_id not in smiles_for_bgcs:\n",
    "        continue\n",
    "    with open(f'/home/ilianolhin/git/nerpa2/training/bgc_compounds/{bgc_id}.tsv', 'w') as f:\n",
    "        f.write('ID\\tSMILES\\n')\n",
    "        for compound_id, smiles in smiles_for_bgcs[bgc_id]:\n",
    "            f.write(f'{compound_id}\\t{smiles}\\n')\n"
   ],
   "metadata": {
    "collapsed": false,
    "ExecuteTime": {
     "end_time": "2024-05-21T14:25:57.630391047Z",
     "start_time": "2024-05-21T14:25:57.583465427Z"
    }
   },
   "id": "65359224c9885cb2",
   "execution_count": 28
  },
  {
   "cell_type": "code",
   "outputs": [],
   "source": [
    "with open('bgc_ids.txt', 'w') as f:\n",
    "    for bgc_id in sorted(filtered_bgcs):\n",
    "        if smiles_for_bgcs[bgc_id]:\n",
    "            f.write(f'{bgc_id}\\n')"
   ],
   "metadata": {
    "collapsed": false,
    "ExecuteTime": {
     "end_time": "2024-05-21T14:25:57.631056332Z",
     "start_time": "2024-05-21T14:25:57.627571583Z"
    }
   },
   "id": "4e9c316a545fe3e7",
   "execution_count": 29
  },
  {
   "cell_type": "code",
   "outputs": [],
   "source": [],
   "metadata": {
    "collapsed": false,
    "ExecuteTime": {
     "end_time": "2024-05-21T14:25:57.631584326Z",
     "start_time": "2024-05-21T14:25:57.627725110Z"
    }
   },
   "id": "467d0efaca5f70a0",
   "execution_count": 29
  }
 ],
 "metadata": {
  "kernelspec": {
   "display_name": "Python 3",
   "language": "python",
   "name": "python3"
  },
  "language_info": {
   "codemirror_mode": {
    "name": "ipython",
    "version": 2
   },
   "file_extension": ".py",
   "mimetype": "text/x-python",
   "name": "python",
   "nbconvert_exporter": "python",
   "pygments_lexer": "ipython2",
   "version": "2.7.6"
  }
 },
 "nbformat": 4,
 "nbformat_minor": 5
}
