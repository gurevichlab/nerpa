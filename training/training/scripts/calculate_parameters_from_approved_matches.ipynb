{
 "cells": [
  {
   "metadata": {},
   "cell_type": "markdown",
   "source": "1. Load matches",
   "id": "a9ac290ab544dc46"
  },
  {
   "metadata": {
    "ExecuteTime": {
     "end_time": "2024-07-14T14:15:17.984805Z",
     "start_time": "2024-07-14T14:15:16.630980Z"
    }
   },
   "cell_type": "code",
   "source": [
    "from pathlib import Path\n",
    "import yaml\n",
    "\n",
    "matches = yaml.safe_load(Path('/home/ilianolhin/git/nerpa2/training/training/matches_inspection_results/approved_matches.yaml').read_text())"
   ],
   "id": "initial_id",
   "outputs": [],
   "execution_count": 1
  },
  {
   "metadata": {},
   "cell_type": "markdown",
   "source": "2. Load BGC variants",
   "id": "55982a3406f55c77"
  },
  {
   "metadata": {
    "ExecuteTime": {
     "end_time": "2024-07-14T14:15:30.785113Z",
     "start_time": "2024-07-14T14:15:17.986110Z"
    }
   },
   "cell_type": "code",
   "source": [
    "from collections import defaultdict\n",
    "nerpa_results_dir = Path('/home/ilianolhin/git/nerpa2/training/training/nerpa_results/currently_inspecting/individual')\n",
    "bgc_variants = defaultdict(list)\n",
    "for bgc_dir in nerpa_results_dir.iterdir():\n",
    "    bgc_id = bgc_dir.name\n",
    "    try:\n",
    "        yaml_files = [f for f in (bgc_dir / 'BGC_variants').iterdir() if f.name.endswith('.yaml')]\n",
    "    except FileNotFoundError:\n",
    "        print(f'No BGC variants for {bgc_id}')\n",
    "        continue\n",
    "    for yaml_file in yaml_files:\n",
    "        bgc_variants[bgc_id].extend(yaml.safe_load(yaml_file.read_text()))\n",
    "        "
   ],
   "id": "7391759cd9d88cfc",
   "outputs": [
    {
     "name": "stdout",
     "output_type": "stream",
     "text": [
      "No BGC variants for BGC0002100\n"
     ]
    }
   ],
   "execution_count": 2
  },
  {
   "metadata": {},
   "cell_type": "markdown",
   "source": "3. Extract distinct alignment steps",
   "id": "ddb2b21c96c2e8d"
  },
  {
   "metadata": {
    "ExecuteTime": {
     "end_time": "2024-07-14T14:15:30.792872Z",
     "start_time": "2024-07-14T14:15:30.785992Z"
    }
   },
   "cell_type": "code",
   "source": [
    "def step_key(match, step) -> tuple:\n",
    "    return (match['Genome'], \n",
    "            step['Gene'], \n",
    "            step['A-domain_idx'], \n",
    "            step['Modifying_domains'],\n",
    "            step['NRP_chirality'],\n",
    "            step['NRP_modifications'],\n",
    "            step['NRP_residue'],\n",
    "            step['Alignment_step'])\n",
    "\n",
    "all_steps_dict = {}\n",
    "for match in matches:\n",
    "    match_steps = [alignment_step for alignment in match['Alignments']\n",
    "                   for alignment_step in alignment]\n",
    "    for step in match_steps:\n",
    "        key = step_key(match, step)\n",
    "        all_steps_dict[key] = step\n",
    "            \n",
    "all_steps = list(all_steps_dict.values())"
   ],
   "id": "18837154aa44cf2e",
   "outputs": [],
   "execution_count": 3
  },
  {
   "metadata": {},
   "cell_type": "markdown",
   "source": "3. Count mismatches",
   "id": "56ce965dce08e91c"
  },
  {
   "metadata": {
    "ExecuteTime": {
     "end_time": "2024-07-14T14:15:30.806209Z",
     "start_time": "2024-07-14T14:15:30.794707Z"
    }
   },
   "cell_type": "code",
   "source": [
    "from collections import Counter\n",
    "mismatches = Counter()\n",
    "used_steps = set()\n",
    "for match in matches:\n",
    "    bgc_id = match['Genome']\n",
    "    bgc_variant = next(variant for variant in bgc_variants[bgc_id] \n",
    "                       if variant['variant_idx'] == match['BGC_variant_idx'])\n",
    "    for alignment in match['Alignments']:\n",
    "        for step in alignment:\n",
    "            if step_key(match, step) in used_steps:\n",
    "                continue\n",
    "            used_steps.add(step_key(match, step))\n",
    "            if step['Alignment_step'] != 'MATCH':\n",
    "                continue\n",
    "            top_scoring_residues = step['Top_scoring_residues'].split(',')\n",
    "            if step['NRP_residue'] in top_scoring_residues:\n",
    "                continue\n",
    "            specificity_predictions = next(module['residue_score'] \n",
    "                                           for module in bgc_variant['tentative_assembly_line']\n",
    "                                           if module['gene_id'] == step['Gene'] and module['module_idx'] == step['A-domain_idx'])\n",
    "            top_score = max(specificity_predictions.values())\n",
    "            if top_score == 0.0:\n",
    "                for res in top_scoring_residues:\n",
    "                    mismatches[(res, step['NRP_residue'])] += 1\n",
    "\n",
    "with open('frequently_mismatches_pairs.tsv', 'w') as f:\n",
    "    for (res1, res2), count in mismatches.most_common():\n",
    "        f.write(f'{res1}\\t{res2}\\t{count}\\n')"
   ],
   "id": "8c45b76d1277098d",
   "outputs": [],
   "execution_count": 4
  },
  {
   "metadata": {},
   "cell_type": "markdown",
   "source": "4. Score calibration",
   "id": "31cdb4ac8b37ff8a"
  },
  {
   "metadata": {
    "ExecuteTime": {
     "end_time": "2024-07-14T14:22:27.854201Z",
     "start_time": "2024-07-14T14:22:27.822715Z"
    }
   },
   "cell_type": "code",
   "source": [
    "score_correctness = []\n",
    "used_steps = set()\n",
    "for match in matches:\n",
    "    bgc_id = match['Genome']\n",
    "    bgc_variant = next(variant for variant in bgc_variants[bgc_id]\n",
    "                       if variant['variant_idx'] == match['BGC_variant_idx'])\n",
    "    for alignment in match['Alignments']:\n",
    "        for step in alignment:\n",
    "            if step_key(match, step) in used_steps:\n",
    "                continue\n",
    "            used_steps.add(step_key(match, step))\n",
    "            if step['Alignment_step'] != 'MATCH':\n",
    "                continue\n",
    "            specificity_predictions = next(module['residue_score']\n",
    "                                           for module in bgc_variant['tentative_assembly_line']\n",
    "                                           if module['gene_id'] == step['Gene'] and module['module_idx'] == step['A-domain_idx'])\n",
    "            for res, score in specificity_predictions.items():\n",
    "                score_correctness.append((score, res == step['NRP_residue']))\n"
   ],
   "id": "6829faf62698c478",
   "outputs": [],
   "execution_count": 5
  },
  {
   "metadata": {},
   "cell_type": "code",
   "outputs": [],
   "execution_count": null,
   "source": "",
   "id": "1cbcabd5ac14db9d"
  }
 ],
 "metadata": {
  "kernelspec": {
   "display_name": "Python 3",
   "language": "python",
   "name": "python3"
  },
  "language_info": {
   "codemirror_mode": {
    "name": "ipython",
    "version": 2
   },
   "file_extension": ".py",
   "mimetype": "text/x-python",
   "name": "python",
   "nbconvert_exporter": "python",
   "pygments_lexer": "ipython2",
   "version": "2.7.6"
  }
 },
 "nbformat": 4,
 "nbformat_minor": 5
}
