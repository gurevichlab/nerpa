{
 "cells": [
  {
   "cell_type": "code",
   "id": "initial_id",
   "metadata": {
    "collapsed": true,
    "ExecuteTime": {
     "end_time": "2024-08-21T13:15:00.422470Z",
     "start_time": "2024-08-21T13:15:00.416314Z"
    }
   },
   "source": [
    "from src.monomer_names_helper import MonomerNamesHelper\n",
    "from pathlib import Path\n",
    "import pandas as pd\n",
    "\n",
    "monomer_names_table = Path('/home/ilianolhin/git/nerpa2/configs/monomers_tables_v3/monomers_unique.tsv')\n",
    "monomer_names_helper = MonomerNamesHelper(pd.read_csv(monomer_names_table, sep='\\t'))"
   ],
   "outputs": [],
   "execution_count": 7
  },
  {
   "metadata": {
    "ExecuteTime": {
     "end_time": "2024-08-21T13:27:28.664893Z",
     "start_time": "2024-08-21T13:27:28.661208Z"
    }
   },
   "cell_type": "code",
   "source": [
    "svm_supported_names = [\"Arg\", \"Asp\", \"Glu\", \"Asn\", \"Lys\", \"Gln\", \"Orn\", \"ohOrn\", \"Aad\",\n",
    "                       \"Ala\", \"Gly\", \"Val\", \"Leu\", \"Ile\", \"Abu\", \"Iva\", \"Ser\", \"Thr\", \"Hpg\", \"dHpg\", \"Cys\", \"Pro\", \"Pip\",\n",
    "                       \"Phe\", \"Tyr\", \"Trp\", \"2,3-dohBza\", \"Sal\", \"Pgl\", \"R-ohTyr\"]\n",
    "print(len(svm_supported_names))\n",
    "print(svm_supported_names)"
   ],
   "id": "a8964e8f86a3c987",
   "outputs": [
    {
     "name": "stdout",
     "output_type": "stream",
     "text": [
      "30\n",
      "['Arg', 'Asp', 'Glu', 'Asn', 'Lys', 'Gln', 'Orn', 'ohOrn', 'Aad', 'Ala', 'Gly', 'Val', 'Leu', 'Ile', 'Abu', 'Iva', 'Ser', 'Thr', 'Hpg', 'dHpg', 'Cys', 'Pro', 'Pip', 'Phe', 'Tyr', 'Trp', '2,3-dohBza', 'Sal', 'Pgl', 'R-ohTyr']\n"
     ]
    }
   ],
   "execution_count": 15
  },
  {
   "metadata": {
    "ExecuteTime": {
     "end_time": "2024-08-21T13:17:21.048292Z",
     "start_time": "2024-08-21T13:17:21.035836Z"
    }
   },
   "cell_type": "code",
   "source": [
    "svm_supported_residues = set(monomer_names_helper.parsed_name(svm_name, 'antismash').residue\n",
    "                             for svm_name in svm_supported_names)\n",
    "print(len(svm_supported_residues))\n",
    "s = repr(sorted(svm_supported_residues))\n",
    "print(s.replace(\"'\", \"\"))"
   ],
   "id": "d13d59f5bfecb894",
   "outputs": [
    {
     "name": "stdout",
     "output_type": "stream",
     "text": [
      "28\n",
      "[Aad, Abu, Ala, Arg, Asn, Asp, Bza, Cys, Gln, Glu, Gly, Hpg, Ile, Iva, Leu, Lys, Orn, Pgl, Phe, Pip, Pro, Sal, Ser, Thr, Trp, Tyr, Val, dHpg]\n"
     ]
    }
   ],
   "execution_count": 13
  },
  {
   "metadata": {
    "ExecuteTime": {
     "end_time": "2024-08-21T13:15:00.459489Z",
     "start_time": "2024-08-21T13:15:00.457474Z"
    }
   },
   "cell_type": "code",
   "source": "",
   "id": "dc91eb3ef88a1f7f",
   "outputs": [],
   "execution_count": 9
  }
 ],
 "metadata": {
  "kernelspec": {
   "display_name": "Python 3",
   "language": "python",
   "name": "python3"
  },
  "language_info": {
   "codemirror_mode": {
    "name": "ipython",
    "version": 2
   },
   "file_extension": ".py",
   "mimetype": "text/x-python",
   "name": "python",
   "nbconvert_exporter": "python",
   "pygments_lexer": "ipython2",
   "version": "2.7.6"
  }
 },
 "nbformat": 4,
 "nbformat_minor": 5
}
