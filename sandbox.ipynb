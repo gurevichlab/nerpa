{
 "cells": [
  {
   "cell_type": "code",
   "id": "initial_id",
   "metadata": {
    "collapsed": true,
    "ExecuteTime": {
     "end_time": "2025-03-24T19:12:42.690270Z",
     "start_time": "2025-03-24T19:12:42.677141Z"
    }
   },
   "source": [
    "import yaml\n",
    "from pathlib import Path\n",
    "norine_stats = yaml.safe_load(Path('data/norine_monomers_info.yaml').read_text())\n",
    "paras_residues = ['Aad', 'Ala', 'Arg', 'Asn', 'Asp', 'Bza', 'Cys', 'Dab', 'Gln', 'Glu', 'Gly', 'His', 'Hpg', 'Ile', 'Leu', 'Lys', 'Orn', 'Phe', 'Pip', 'Pro', 'Ser', 'Thr', 'Trp', 'Tyr', 'Val', 'bAla', 'dHpg']\n",
    "all_res_freqs = sorted(norine_stats['residue_frequencies'].items(), key=lambda x: x[1], reverse=True)\n",
    "print('All residues frequencies:')\n",
    "print(all_res_freqs)\n",
    "res_idx = {res: idx for idx, (res, _) in enumerate(all_res_freqs)}\n",
    "print('Paras residues indices:')\n",
    "print(sorted((res_idx[paras_res], paras_res) for paras_res in paras_residues))\n"
   ],
   "outputs": [
    {
     "name": "stdout",
     "output_type": "stream",
     "text": [
      "All residues frequencies:\n",
      "[('unknown', 0.21105308964316796), ('Leu', 0.10008703220191471), ('Ala', 0.07441253263707572), ('Val', 0.07154046997389034), ('Pro', 0.0658833768494343), ('Ser', 0.04142732811140122), ('Gln', 0.03951261966927763), ('Gly', 0.03498694516971279), ('Asp', 0.03080939947780679), ('Thr', 0.028807658833768495), ('Ile', 0.028720626631853787), ('Phe', 0.02863359442993908), ('Tyr', 0.025587467362924284), ('Glu', 0.020974760661444734), ('Asn', 0.0206266318537859), ('Orn', 0.018711923411662314), ('Dab', 0.017493472584856395), ('Hpg', 0.014708442123585727), ('Trp', 0.01453437771975631), ('Abu', 0.013228894691035683), ('aThr', 0.012358572671888599), ('Arg', 0.011662315056570931), ('Lys', 0.010008703220191472), ('Iva', 0.008181026979982594), ('Hiv', 0.0067014795474325504), ('aIle', 0.0067014795474325504), ('bAla', 0.005831157528285466), ('dHpg', 0.004525674499564839), ('Cys', 0.004264577893820714), ('Lac', 0.0039164490861618795), ('Pen', 0.003568320278503046), ('Dpr', 0.003394255874673629), ('His', 0.003394255874673629), ('Hty', 0.0030461270670147957), ('Hse', 0.0028720626631853785), ('Pip', 0.0026979982593559617), ('Bmt', 0.0024369016536118365), ('Bza', 0.0013054830287206266), ('bLys', 0.0005221932114882506), ('Kyn', 0.0004351610095735422), ('Aad', 0.0002610966057441253), ('oxoDec', 0.00017406440382941688)]\n",
      "Paras residues indices:\n",
      "[(1, 'Leu'), (2, 'Ala'), (3, 'Val'), (4, 'Pro'), (5, 'Ser'), (6, 'Gln'), (7, 'Gly'), (8, 'Asp'), (9, 'Thr'), (10, 'Ile'), (11, 'Phe'), (12, 'Tyr'), (13, 'Glu'), (14, 'Asn'), (15, 'Orn'), (16, 'Dab'), (17, 'Hpg'), (18, 'Trp'), (21, 'Arg'), (22, 'Lys'), (26, 'bAla'), (27, 'dHpg'), (28, 'Cys'), (32, 'His'), (35, 'Pip'), (37, 'Bza'), (40, 'Aad')]\n"
     ]
    }
   ],
   "execution_count": 7
  },
  {
   "metadata": {
    "ExecuteTime": {
     "end_time": "2025-04-01T07:43:02.968453Z",
     "start_time": "2025-04-01T07:43:02.957422Z"
    }
   },
   "cell_type": "code",
   "source": [
    "import pandas as pd\n",
    "from pathlib import Path\n",
    "\n",
    "df = pd.read_table(Path('/home/ilianolhin/git/nerpa2/data/compound_info_table.tsv'), sep='\\t')\n",
    "\n",
    "# Filter MIBiG compounds with at least 3 rBAN recognized_monomers\n",
    "df_mibig = df[df['id'].str.startswith('BGC')]\n",
    "\n",
    "def unique_bgc_ids(df: pd.DataFrame) -> set:\n",
    "    \"\"\"\n",
    "    Extract unique BGC IDs from the DataFrame.\n",
    "    \"\"\"\n",
    "    return set(df['id'].apply(lambda s: s.split('.')[0]))\n",
    "\n",
    "df_mibig_with_rban_monomers = df_mibig[df_mibig['recognized_monomers'] >= 3]\n",
    "df_mibig_with_nerpa_monomers = df_mibig[df_mibig['nerpa2_supported_monomers'] >= 3]\n",
    "print(f'BGC IDs with at least 3 rBAN recognized_monomers: {len(unique_bgc_ids(df_mibig_with_rban_monomers))}')\n",
    "print(f'BGC IDs with at least 3 nerpa2_supported_monomers: {len(unique_bgc_ids(df_mibig_with_nerpa_monomers))}')\n"
   ],
   "id": "ff70db4700a0b37c",
   "outputs": [
    {
     "name": "stdout",
     "output_type": "stream",
     "text": [
      "BGC IDs with at least 3 rBAN recognized_monomers: 452\n",
      "BGC IDs with at least 3 nerpa2_supported_monomers: 426\n"
     ]
    }
   ],
   "execution_count": 6
  },
  {
   "metadata": {
    "ExecuteTime": {
     "end_time": "2025-04-02T19:15:23.351584Z",
     "start_time": "2025-04-02T19:15:22.980043Z"
    }
   },
   "cell_type": "code",
   "source": [
    "from src.matching.match_type import Match\n",
    "from pathlib import Path\n",
    "import shutil\n",
    "\n",
    "nerpa_dir = Path('/home/ilianolhin/git/nerpa2/')\n",
    "\n",
    "# Load the approved matches from the text file\n",
    "approved_matches_txt = nerpa_dir / 'test_data/approved_matches/approved_matches.txt'\n",
    "matches_strs = approved_matches_txt.read_text().split('\\n\\n')\n",
    "matches_strs = [match_str for match_str in matches_strs\n",
    "                if match_str.strip()]\n",
    "approved_matches = [Match.from_str(matches_str)\n",
    "                    for matches_str in matches_strs]\n",
    "approved_matches_nrp_ids = {match.nrp_variant_id.nrp_id for match in approved_matches}\n",
    "approved_matches_bgc_ids = {nrp_id.split('.')[0] for nrp_id in approved_matches_nrp_ids}\n",
    "\n",
    "print(f'Approved matches nrp ids: {len(approved_matches_nrp_ids)}')\n",
    "print(f'Approved matches bgc ids: {len(approved_matches_bgc_ids)}')\n"
   ],
   "id": "6130a9cd040cc341",
   "outputs": [
    {
     "name": "stdout",
     "output_type": "stream",
     "text": [
      "Approved matches nrp ids: 234\n",
      "Approved matches bgc ids: 145\n"
     ]
    }
   ],
   "execution_count": 1
  },
  {
   "metadata": {
    "ExecuteTime": {
     "end_time": "2025-04-01T22:05:33.110109Z",
     "start_time": "2025-04-01T22:05:33.066977Z"
    }
   },
   "cell_type": "code",
   "source": [
    "# copy antismash results for the bgc ids to test_data/approved_matches\n",
    "antismash_results_all = Path('/home/ilianolhin/programs/antismash7/mibig_results')\n",
    "for mibig_id in approved_matches_bgc_ids:\n",
    "    antismash_results_json = antismash_results_all / mibig_id / f'{mibig_id}.json'\n",
    "    dst = nerpa_dir / 'test_data/approved_matches/antismash_jsons' / f'{mibig_id}.json'\n",
    "    if not dst.exists():\n",
    "        shutil.copy(antismash_results_json, dst)\n",
    "\n"
   ],
   "id": "5c0ecceb7eb18575",
   "outputs": [],
   "execution_count": 6
  },
  {
   "metadata": {
    "ExecuteTime": {
     "end_time": "2025-04-01T22:09:31.086638Z",
     "start_time": "2025-04-01T22:09:30.412474Z"
    }
   },
   "cell_type": "code",
   "source": [
    "# collect rban results for the approved nrp ids\n",
    "import json\n",
    "rban_results_all = Path('/home/ilianolhin/git/nerpa2_old/training/training/rban_records')\n",
    "\n",
    "records = []\n",
    "for nrp_id in approved_matches_nrp_ids:\n",
    "    rban_results_json = rban_results_all / f'{nrp_id}.json'\n",
    "    records.append(json.loads(rban_results_json.read_text()))\n",
    "\n",
    "dest = nerpa_dir / 'test_data/approved_matches/rban_records/merged.json'\n",
    "\n",
    "with open(dest, 'w') as f:\n",
    "    json.dump(records, f, indent=4)"
   ],
   "id": "187f5267be9c294f",
   "outputs": [],
   "execution_count": 7
  },
  {
   "metadata": {
    "ExecuteTime": {
     "end_time": "2025-09-04T16:20:37.093368Z",
     "start_time": "2025-09-04T16:20:37.023185Z"
    }
   },
   "cell_type": "code",
   "source": [
    "import pandas as pd\n",
    "from pathlib import Path\n",
    "import json\n",
    "\n",
    "def compare_sets(set1: set, set2: set, name1: str, name2: str,\n",
    "                 display_differences: bool = False) -> None:\n",
    "    fst_n_to_show = 10\n",
    "    if set1 == set2:\n",
    "        print(f'Sets {name1} and {name2} are equal')\n",
    "    else:\n",
    "        print(f'Sets {name1} and {name2} are NOT equal')\n",
    "        print(f'{len(set1 - set2)} items in {name1} \\\\ {name2}: ')\n",
    "        if display_differences:\n",
    "            print(list(set1 - set2)[:fst_n_to_show])\n",
    "        print(f'{len(set2 - set1)} items in {name2} \\\\ {name1}: ')\n",
    "        if display_differences:\n",
    "            print(list(set2 - set1)[:fst_n_to_show])\n",
    "\n",
    "pnrpdb_tsv = Path('/home/ilianolhin/git/nerpa2/data/pnrpdb2rc1_summary.tsv')\n",
    "pnrpdb = pd.read_csv(pnrpdb_tsv, sep='\\t')\n",
    "nrps_info_tsv = Path('/home/ilianolhin/git/nerpa2/data/for_training_and_testing/pnrpdb2_additional_info.tsv')\n",
    "nrps_info = pd.read_csv(nrps_info_tsv, sep='\\t')\n",
    "\n",
    "nerpa2_run_rban_json = Path('/home/ilianolhin/git/nerpa2/nerpa_results/approved_vs_mibig_norine/rban.input.json')\n",
    "nerpa2_run_rban = json.loads(nerpa2_run_rban_json.read_text())\n",
    "rban_ids = {record['id'] for record in nerpa2_run_rban}\n",
    "\n",
    "def is_mibig_norine_nrp(nrp_id: str) -> bool:\n",
    "    return nrp_id.startswith('BGC') or nrp_id.startswith('NOR')\n",
    "mibig_norine_nrps = nrps_info[nrps_info['compound_id'].map(is_mibig_norine_nrp)]\n",
    "\n",
    "compare_sets(rban_ids, set(mibig_norine_nrps['compound_id']), 'rban_ids', 'mibig_norine_nrps', True)\n",
    "\n",
    "print(f'MIBiG and Norine NRPs: {len(mibig_norine_nrps)}')\n",
    "print(f'MIBiG and Norine NRPs unique: {mibig_norine_nrps[\"iso_class_idx\"].nunique()}')\n",
    "print(f'MIBiG and Norine NRPs unique with at least 3 monomers: '\n",
    "      f'{mibig_norine_nrps[mibig_norine_nrps[\"num_recognized_nodes\"] >= 3][\"iso_class_idx\"].nunique()}')\n"
   ],
   "id": "33d6a8692e0575e1",
   "outputs": [
    {
     "name": "stdout",
     "output_type": "stream",
     "text": [
      "Sets rban_ids and mibig_norine_nrps are NOT equal\n",
      "0 items in rban_ids \\ mibig_norine_nrps: \n",
      "[]\n",
      "896 items in mibig_norine_nrps \\ rban_ids: \n",
      "['BGC0003085.1', 'BGC0001971.0', 'BGC0002075.3', 'BGC0002050.2', 'NOR00510', 'NOR01971', 'NOR01941', 'BGC0002059.0', 'BGC0002149.2', 'BGC0003135.0']\n",
      "MIBiG and Norine NRPs: 2445\n",
      "MIBiG and Norine NRPs unique: 1384\n",
      "MIBiG and Norine NRPs unique with at least 3 monomers: 1076\n"
     ]
    }
   ],
   "execution_count": 10
  },
  {
   "metadata": {
    "ExecuteTime": {
     "end_time": "2025-09-05T18:13:59.291083Z",
     "start_time": "2025-09-05T18:13:51.540492Z"
    }
   },
   "cell_type": "code",
   "source": [
    "from typing import Iterable\n",
    "import pandas as pd\n",
    "from pathlib import Path\n",
    "import json\n",
    "\n",
    "pnrpdb_tsv = Path('/home/ilianolhin/git/nerpa2/data/pnrpdb2rc1_summary.tsv')\n",
    "pnrpdb = pd.read_csv(pnrpdb_tsv, sep='\\t')\n",
    "nrps_info_tsv = Path('/home/ilianolhin/git/nerpa2/data/for_training_and_testing/pnrpdb2_additional_info.tsv')\n",
    "nrps_info = pd.read_csv(nrps_info_tsv, sep='\\t')\n",
    "\n",
    "# q: filter out NRPs with at least 3 recognized monomers\n",
    "def enough_recognized_monomers(row: pd.Series) -> bool:\n",
    "    nrp_info = nrps_info[nrps_info['compound_id'] == row['ID']]\n",
    "    if nrp_info.empty:\n",
    "        return False\n",
    "    return nrp_info.iloc[0]['num_recognized_nodes'] >= 3\n",
    "\n",
    "def get_iso_class_idx(row: pd.Series) -> int | None:\n",
    "    nrp_info = nrps_info[nrps_info['compound_id'] == row['ID']]\n",
    "    if nrp_info.empty:\n",
    "        return None\n",
    "    return nrp_info.iloc[0]['iso_class_idx']\n",
    "\n",
    "pnrpdb_filtered = pnrpdb[pnrpdb.apply(enough_recognized_monomers, axis=1)]\n",
    "pnrpdb_filtered['iso_class_idx'] = pnrpdb_filtered.apply(get_iso_class_idx, axis=1)\n",
    "\n",
    "def find_representative_nrp(nrp_names: Iterable[str]) -> str:\n",
    "    mibig_nrps = [name for name in nrp_names if name.startswith('BGC')]\n",
    "    if mibig_nrps:\n",
    "        return sorted(mibig_nrps)[0]\n",
    "    norine_nrps = [name for name in nrp_names if name.startswith('NOR')]\n",
    "    if norine_nrps:\n",
    "        return sorted(norine_nrps)[0]\n",
    "    return sorted(nrp_names)[0]\n",
    "\n",
    "representative_nrps = set(\n",
    "    pnrpdb_filtered\n",
    "    .groupby('iso_class_idx')['ID']\n",
    "    .apply(find_representative_nrp)\n",
    ")\n",
    "pnrpdb_filtered = pnrpdb_filtered[pnrpdb_filtered['ID'].isin(representative_nrps)]\n",
    "pnrpdb_filtered.sort_values('ID', inplace=True)\n",
    "pnrpdb_filtered.drop(columns=['iso_class_idx'], inplace=True)\n",
    "\n",
    "def is_mibig_norine_nrp(nrp_id: str) -> bool:\n",
    "    return nrp_id.startswith('BGC') or nrp_id.startswith('NOR')\n",
    "\n",
    "new_mibig_norine = pnrpdb_filtered[pnrpdb_filtered['ID'].map(is_mibig_norine_nrp)]\n",
    "\n",
    "pnrpdb_filtered.to_csv('data/pnrpdb2_deduplicated.tsv', sep='\\t', index=False)\n",
    "new_mibig_norine.to_csv('data/pnrpdb2_mibig_norine_deduplicated.tsv', sep='\\t', index=False)"
   ],
   "id": "dc2b5f73ff9399c7",
   "outputs": [
    {
     "name": "stderr",
     "output_type": "stream",
     "text": [
      "/tmp/ipykernel_7270/252741247.py:25: SettingWithCopyWarning: \n",
      "A value is trying to be set on a copy of a slice from a DataFrame.\n",
      "Try using .loc[row_indexer,col_indexer] = value instead\n",
      "\n",
      "See the caveats in the documentation: https://pandas.pydata.org/pandas-docs/stable/user_guide/indexing.html#returning-a-view-versus-a-copy\n",
      "  pnrpdb_filtered['iso_class_idx'] = pnrpdb_filtered.apply(get_iso_class_idx, axis=1)\n"
     ]
    }
   ],
   "execution_count": 8
  },
  {
   "metadata": {},
   "cell_type": "code",
   "outputs": [],
   "execution_count": null,
   "source": "",
   "id": "9f47f62a2aced25d"
  }
 ],
 "metadata": {
  "kernelspec": {
   "display_name": "Python 3",
   "language": "python",
   "name": "python3"
  },
  "language_info": {
   "codemirror_mode": {
    "name": "ipython",
    "version": 2
   },
   "file_extension": ".py",
   "mimetype": "text/x-python",
   "name": "python",
   "nbconvert_exporter": "python",
   "pygments_lexer": "ipython2",
   "version": "2.7.6"
  }
 },
 "nbformat": 4,
 "nbformat_minor": 5
}
