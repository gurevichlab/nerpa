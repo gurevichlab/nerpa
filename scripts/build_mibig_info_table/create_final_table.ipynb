{
 "cells": [
  {
   "metadata": {
    "ExecuteTime": {
     "end_time": "2025-06-15T14:57:03.899032Z",
     "start_time": "2025-06-15T14:57:03.890423Z"
    }
   },
   "cell_type": "code",
   "source": [
    "# Load BIG-SCAPE clustering\n",
    "import pandas as pd\n",
    "from pathlib import Path\n",
    "bigscape_results_dir = Path('/home/ilianolhin/git/nerpa2/scripts/build_mibig_info_table/bigscape_clustering/network_files/2025-06-10_16-07-56_hybrids_glocal')\n",
    "bigscape_bgc_types = [f.name\n",
    "                      for f in bigscape_results_dir.iterdir()\n",
    "                      if f.is_dir()]\n",
    "#bigscape_bgc_types = ['NRPS', 'PKS-NRP_Hybrids', 'PKSI', 'PKSother', 'Terpene', 'mix', 'Others']\n",
    "clustering_per_type = {}\n",
    "for bgc_type in bigscape_bgc_types:\n",
    "    # Load the clustering table for the current BGC type\n",
    "    clustering_table = pd.read_csv(bigscape_results_dir / f'{bgc_type}/{bgc_type}_clustering_c0.30.tsv', sep='\\t')\n",
    "    clustering_per_type[bgc_type] = clustering_table\n",
    "\n",
    "def bgc_id_to_combined_families(bgc_id: str) -> str:\n",
    "    \"\"\"Convert BGC ID to combined family name.\"\"\"\n",
    "    families_per_type = []\n",
    "    for bgc_type, clustering_table in clustering_per_type.items():\n",
    "        if bgc_id in clustering_table['#BGC Name'].values:\n",
    "            family_number = clustering_table[clustering_table['#BGC Name'] == bgc_id]['Family Number'].values[0]\n",
    "            families_per_type.append(f'{bgc_type}_{family_number}')\n",
    "    return '_'.join(families_per_type)\n"
   ],
   "id": "118d29f8ee48f091",
   "outputs": [],
   "execution_count": 3
  },
  {
   "metadata": {
    "collapsed": true,
    "ExecuteTime": {
     "end_time": "2025-06-15T15:12:41.463770Z",
     "start_time": "2025-06-15T15:12:39.381041Z"
    }
   },
   "cell_type": "code",
   "source": [
    "from pathlib import Path\n",
    "\n",
    "# Load the BGCs table from ./bgc_variants_mibig3_mibig4.tsv\n",
    "bgc_variants_table = pd.read_csv('./bgc_variants_mibig3_mibig4.tsv', sep='\\t')\n",
    "# Load the rban graphs table from ./pnrpdb2_additional_info.tsv\n",
    "rban_graphs_table = pd.read_csv('./rban_graphs_filtered.tsv', sep='\\t')\n",
    "\n",
    "# Load approved matches /home/ilianolhin/git/nerpa2/test_data/approved_matches/approved_matches.txt\n",
    "approved_matches_path = Path('/home/ilianolhin/git/nerpa2/test_data/approved_matches/approved_matches.txt')\n",
    "nrp_ids_approved = set()\n",
    "for line in approved_matches_path.read_text().splitlines():\n",
    "    if line.strip().startswith('NRP:'):\n",
    "        nrp_id = line.strip().split(':')[1].strip()\n",
    "        nrp_ids_approved.add(nrp_id)\n",
    "\n",
    "def nrp_id_to_bgc_id(nrp_id: str) -> str:\n",
    "    \"\"\"Convert NRP ID to BGC ID.\"\"\"\n",
    "    return nrp_id.split('.')[0]  # Assuming NRP IDs are formatted as 'BGCID.compound_idx'\n",
    "\n",
    "data_rows = []\n",
    "for compound_id in rban_graphs_table['compound_id']:\n",
    "    # Extract the NRP ID from the compound ID\n",
    "    if not compound_id.startswith('BGC'):\n",
    "        continue  # Skip if compound_id does not start with 'BGC'\n",
    "    nrp_id = compound_id\n",
    "\n",
    "    # Check if the NRP ID is in the approved matches\n",
    "    bgc_id = nrp_id_to_bgc_id(nrp_id)\n",
    "    if bgc_id in bgc_variants_table['bgc_id'].values:\n",
    "        bigscape_families_str = bgc_id_to_combined_families(bgc_id)\n",
    "        if bigscape_families_str == '':\n",
    "            print('Warning: BGC ID', bgc_id, 'is not in any BIG-SCAPE family')\n",
    "            bigscape_families_str = 'None'\n",
    "\n",
    "        data_rows.append({\n",
    "            'bgc_id': bgc_id,\n",
    "            'num_a_domains': bgc_variants_table.loc[bgc_variants_table['bgc_id'] == bgc_id, 'num_a_domains'].values[0],\n",
    "            'origins': bgc_variants_table.loc[bgc_variants_table['bgc_id'] == bgc_id, 'origins'].values[0],\n",
    "            'bigscape_families': bigscape_families_str,\n",
    "            'compound_id': nrp_id,\n",
    "            'num_recognized_nodes': rban_graphs_table.loc[rban_graphs_table['compound_id'] == compound_id, 'num_recognized_nodes'].values[0],\n",
    "            'iso_class_idx': rban_graphs_table.loc[rban_graphs_table['compound_id'] == compound_id, 'iso_class_idx'].values[0],\n",
    "            'in_approved_matches': nrp_id in nrp_ids_approved,\n",
    "            'deprecated in mibig4': bigscape_families_str == 'None',\n",
    "        })\n",
    "\n",
    "# Create a DataFrame from the data rows\n",
    "df_final = pd.DataFrame(data_rows)\n",
    "# sort the DataFrame by compound_id\n",
    "df_final.sort_values(by='compound_id', inplace=True)\n",
    "# Save the final DataFrame to a TSV file\n",
    "df_final.to_csv('mibig_bgcs_info.tsv', sep='\\t', index=False)\n",
    "\n",
    "print(df_final[(df_final['in_approved_matches'] == True) & (df_final['bigscape_families'] == 'None')])"
   ],
   "id": "initial_id",
   "outputs": [
    {
     "name": "stdout",
     "output_type": "stream",
     "text": [
      "Warning: BGC ID BGC0002178 is not in any BIG-SCAPE family\n",
      "Warning: BGC ID BGC0002178 is not in any BIG-SCAPE family\n",
      "Warning: BGC ID BGC0000406 is not in any BIG-SCAPE family\n",
      "Warning: BGC ID BGC0000406 is not in any BIG-SCAPE family\n",
      "Warning: BGC ID BGC0002632 is not in any BIG-SCAPE family\n",
      "Warning: BGC ID BGC0002632 is not in any BIG-SCAPE family\n",
      "Warning: BGC ID BGC0001767 is not in any BIG-SCAPE family\n",
      "Warning: BGC ID BGC0001767 is not in any BIG-SCAPE family\n",
      "Warning: BGC ID BGC0001767 is not in any BIG-SCAPE family\n",
      "Empty DataFrame\n",
      "Columns: [bgc_id, num_a_domains, origins, bigscape_families, compound_id, num_recognized_nodes, iso_class_idx, in_approved_matches, deprecated in mibig4]\n",
      "Index: []\n"
     ]
    }
   ],
   "execution_count": 9
  }
 ],
 "metadata": {
  "kernelspec": {
   "display_name": "Python 3",
   "language": "python",
   "name": "python3"
  },
  "language_info": {
   "codemirror_mode": {
    "name": "ipython",
    "version": 2
   },
   "file_extension": ".py",
   "mimetype": "text/x-python",
   "name": "python",
   "nbconvert_exporter": "python",
   "pygments_lexer": "ipython2",
   "version": "2.7.6"
  }
 },
 "nbformat": 4,
 "nbformat_minor": 5
}
