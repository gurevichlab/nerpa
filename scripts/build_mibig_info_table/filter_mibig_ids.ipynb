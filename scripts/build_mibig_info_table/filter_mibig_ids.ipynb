{
 "cells": [
  {
   "cell_type": "code",
   "id": "initial_id",
   "metadata": {
    "collapsed": true,
    "ExecuteTime": {
     "end_time": "2025-06-07T20:09:45.632985Z",
     "start_time": "2025-06-07T20:09:45.490623Z"
    }
   },
   "source": [
    "from pathlib import Path\n",
    "import json\n",
    "\n",
    "mibig3_gbks_dir = Path('/home/ilianolhin/programs/antismash7/mibig_gbk_3.1')\n",
    "mibig3_jsons_dir = Path('/home/ilianolhin/programs/antismash7/mibig_json_3.1')\n",
    "mibig4_gbks_dir = Path('/home/ilianolhin/programs/antismash7/mibig_gbk_4.0')\n",
    "mibig4_jsons_dir = Path('/home/ilianolhin/programs/antismash7/mibig_json_4.0')\n",
    "\n",
    "mibig3_bgcs_nrp_plus = set()\n",
    "for mibig3_entry_json in mibig3_jsons_dir.iterdir():\n",
    "    mibig3_entry_data = json.loads(mibig3_entry_json.read_text())\n",
    "    if 'NRP' in mibig3_entry_data['cluster']['biosyn_class']:\n",
    "        entry_id = mibig3_entry_json.stem\n",
    "        if (mibig3_gbks_dir / f'{entry_id}.gbk').exists():\n",
    "            mibig3_bgcs_nrp_plus.add(entry_id)\n",
    "\n",
    "mibig4_bgcs_nrp_plus = set()\n",
    "for mibig4_entry_json in mibig4_jsons_dir.iterdir():\n",
    "    mibig4_entry_data = json.loads(mibig4_entry_json.read_text())\n",
    "    biosynth_classes = [biosynth_class['class'] for biosynth_class in mibig4_entry_data['biosynthesis']['classes']]\n",
    "    if 'NRPS' in biosynth_classes:\n",
    "        entry_id = mibig4_entry_json.stem\n",
    "        if (mibig4_gbks_dir / f'{entry_id}.gbk').exists():\n",
    "            # Only include entries that have a corresponding .gbk file\n",
    "                mibig4_bgcs_nrp_plus.add(entry_id)\n"
   ],
   "outputs": [],
   "execution_count": 4
  },
  {
   "metadata": {
    "ExecuteTime": {
     "end_time": "2025-06-07T20:09:45.639771Z",
     "start_time": "2025-06-07T20:09:45.636637Z"
    }
   },
   "cell_type": "code",
   "source": [
    "mibig4_wo_3 = sorted(mibig4_bgcs_nrp_plus - mibig3_bgcs_nrp_plus)\n",
    "as_input_gbk_paths = Path('/home/ilianolhin/programs/antismash7/as_input_gbk_paths.txt')\n",
    "paths_to_mibig4_wo_3 = [f'{mibig4_gbks_dir.name}/{mibig_id}.gbk' for mibig_id in mibig4_wo_3]\n",
    "with open(as_input_gbk_paths, 'w') as f:\n",
    "    for path in paths_to_mibig4_wo_3:\n",
    "        f.write(f'{path}\\n')"
   ],
   "id": "e2b14a7a46215efa",
   "outputs": [],
   "execution_count": 5
  },
  {
   "metadata": {
    "ExecuteTime": {
     "end_time": "2025-06-07T20:09:57.772379Z",
     "start_time": "2025-06-07T20:09:45.692419Z"
    }
   },
   "cell_type": "code",
   "source": [
    "import yaml\n",
    "bgc_variants = []\n",
    "for bgc_variant_yaml in Path('./nerpa_results_pnrpdb2_vs_mibig34/BGC_variants').iterdir():\n",
    "    if bgc_variant_yaml.suffix == '.yaml':\n",
    "        variants = yaml.safe_load(bgc_variant_yaml.read_text())\n",
    "        # only keep the first variant of each BGC (they all have the same origins and number of A domains)\n",
    "        bgc_variants.append(variants[0])\n"
   ],
   "id": "ddba4902537e7c31",
   "outputs": [],
   "execution_count": 6
  },
  {
   "metadata": {
    "ExecuteTime": {
     "end_time": "2025-06-07T20:09:57.972382Z",
     "start_time": "2025-06-07T20:09:57.778567Z"
    }
   },
   "cell_type": "code",
   "source": [
    "# q: Create a table with the following columns:\n",
    "# bgc_id, len(bgc_variant['modules']), origins (mibig3 or mibig4)\n",
    "import pandas as pd\n",
    "def get_bgc_id(bgc_variant):\n",
    "    return bgc_variant['bgc_variant_id']['bgc_id']['genome_id']\n",
    "\n",
    "data = {\n",
    "    'bgc_id': [get_bgc_id(bgc_variant) for bgc_variant in bgc_variants],\n",
    "    'num_a_domains': [len(bgc_variant['modules']) for bgc_variant in bgc_variants],\n",
    "    'origins': ['mibig4' if get_bgc_id(bgc_variant) in mibig4_wo_3 else 'mibig3'\n",
    "                for bgc_variant in bgc_variants]\n",
    "}\n",
    "df = pd.DataFrame(data)\n",
    "# Save the DataFrame to a TSV file\n",
    "df.to_csv('bgc_variants_mibig3_mibig4.tsv', sep='\\t', index=False)"
   ],
   "id": "647484d68135b1d9",
   "outputs": [],
   "execution_count": 7
  }
 ],
 "metadata": {
  "kernelspec": {
   "display_name": "Python 3",
   "language": "python",
   "name": "python3"
  },
  "language_info": {
   "codemirror_mode": {
    "name": "ipython",
    "version": 2
   },
   "file_extension": ".py",
   "mimetype": "text/x-python",
   "name": "python",
   "nbconvert_exporter": "python",
   "pygments_lexer": "ipython2",
   "version": "2.7.6"
  }
 },
 "nbformat": 4,
 "nbformat_minor": 5
}
