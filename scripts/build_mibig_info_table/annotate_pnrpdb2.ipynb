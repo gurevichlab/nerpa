{
 "cells": [
  {
   "metadata": {},
   "cell_type": "markdown",
   "source": "1. Filter rban graphs to only those with at least 3 recognized nodes (not starting with 'X' and not lipid tails)",
   "id": "394e90f5866055d5"
  },
  {
   "metadata": {
    "collapsed": true,
    "ExecuteTime": {
     "end_time": "2025-06-07T19:52:45.846815Z",
     "start_time": "2025-06-07T19:52:36.208798Z"
    }
   },
   "cell_type": "code",
   "source": [
    "import yaml\n",
    "rban_graphs = yaml.safe_load(open(\"./nerpa_results_pnrpdb2_vs_mibig34/rban_graphs.yaml\"))\n",
    "\n",
    "def num_recognized_nodes(graph):\n",
    "    return sum(1 for node_idx, node_name in graph['nodes'].items()\n",
    "               if not node_name.startswith('X')  # unrecognized nodes start with 'X'\n",
    "               and not ':' in node_name)  # nodes with ':' are lipid tails\n",
    "\n",
    "rban_graphs_filtered = [graph for graph in rban_graphs  # at least 3 \"proper\" nodes\n",
    "                        if num_recognized_nodes(graph) >= 0]\n",
    "print(f'{len(rban_graphs_filtered)}'\n",
    "      f' out of {len(rban_graphs)} rban graphs have at least 0 recognized nodes')"
   ],
   "id": "initial_id",
   "outputs": [
    {
     "name": "stdout",
     "output_type": "stream",
     "text": [
      "9725 out of 9725 rban graphs have at least 0 recognized nodes\n"
     ]
    }
   ],
   "execution_count": 7
  },
  {
   "metadata": {},
   "cell_type": "markdown",
   "source": "2. Find classes of isomorphic graphs.",
   "id": "9c52db7f2f94e754"
  },
  {
   "metadata": {
    "ExecuteTime": {
     "end_time": "2025-06-07T19:56:17.148973Z",
     "start_time": "2025-06-07T19:52:45.852886Z"
    }
   },
   "cell_type": "code",
   "source": [
    "from networkx import DiGraph, is_isomorphic\n",
    "\n",
    "def rban_graph_to_nx_graph(graph):\n",
    "    G = DiGraph()\n",
    "    for node_idx, node_name in graph['nodes'].items():\n",
    "        G.add_node(node_idx, name=node_name)\n",
    "    for (u, v, bond_type) in graph['edges']:\n",
    "        G.add_edge(u, v, bond_type=bond_type)\n",
    "    return G\n",
    "\n",
    "def graphs_isomorphic(graph1: DiGraph, graph2: DiGraph) -> bool:\n",
    "    def node_match(n1, n2):\n",
    "        name1, name2 = n1.get('name'), n2.get('name')\n",
    "        return any([name1 == name2,  # same amino acid\n",
    "                    name1.startswith('X') and name2.startswith('X'),  # both unknown\n",
    "                    ':' in name1 and ':'])  # both lipid tails\n",
    "\n",
    "    def edge_match(e1, e2):\n",
    "        return e1.get('bond_type') == e2.get('bond_type')\n",
    "\n",
    "    return is_isomorphic(graph1, graph2, node_match=node_match, edge_match=edge_match)\n",
    "\n",
    "print(f'Finding isomorphic classes among {len(rban_graphs_filtered)} rban graphs')\n",
    "free_iso_class_idx = 0\n",
    "compound_id_to_nx_graph = {graph['compound_id']: rban_graph_to_nx_graph(graph)\n",
    "                           for graph in rban_graphs_filtered}\n",
    "\n",
    "compound_id_to_iso_idx = {}\n",
    "for compound_id, nx_graph in compound_id_to_nx_graph.items():\n",
    "    for prev_compound_id, iso_class_idx in compound_id_to_iso_idx.items():\n",
    "        if graphs_isomorphic(compound_id_to_nx_graph[prev_compound_id],\n",
    "                             compound_id_to_nx_graph[compound_id]):\n",
    "            compound_id_to_iso_idx[compound_id] = iso_class_idx\n",
    "            break\n",
    "    else:\n",
    "        compound_id_to_iso_idx[compound_id] = free_iso_class_idx\n",
    "        free_iso_class_idx += 1\n",
    "\n",
    "print(f'Found {len(set(compound_id_to_iso_idx.values()))} isomorphic classes among the filtered rban graphs')\n"
   ],
   "id": "59a80066b51fb786",
   "outputs": [
    {
     "name": "stdout",
     "output_type": "stream",
     "text": [
      "Finding isomorphic classes among 9725 rban graphs\n",
      "Found 5672 isomorphic classes among the filtered rban graphs\n"
     ]
    }
   ],
   "execution_count": 8
  },
  {
   "metadata": {},
   "cell_type": "markdown",
   "source": "3. Load BGC variants from nerpa_results_pnrpdb2_vs_mibig34/BGC_variants",
   "id": "7fc8aaef75e00aa3"
  },
  {
   "metadata": {},
   "cell_type": "code",
   "outputs": [],
   "execution_count": null,
   "source": [
    "from pathlib import Path\n",
    "import yaml\n",
    "bgc_variants = []\n",
    "for bgc_variant_yaml in Path('./nerpa_results_pnrpdb2_vs_mibig34/BGC_variants').iterdir():\n",
    "    if bgc_variant_yaml.suffix == '.yaml':\n",
    "        bgc_variant_data = yaml.safe_load(bgc_variant_yaml.read_text())\n",
    "        # only keep the first variant of each BGC (they all have the same origins and number of A domains)\n",
    "        if bgc_variant_data['bgc_variant_id']['variant_idx'] == 0:\n",
    "            bgc_variants.append(bgc_variant_data)\n"
   ],
   "id": "89544b8389509167"
  },
  {
   "metadata": {},
   "cell_type": "markdown",
   "source": "3. Create a pd.DataFrame with the following columns: compound_id, num_recognized_nodes, iso_class_idx",
   "id": "cc4830bc830d2e67"
  },
  {
   "metadata": {
    "ExecuteTime": {
     "end_time": "2025-06-07T19:56:17.199142Z",
     "start_time": "2025-06-07T19:56:17.168410Z"
    }
   },
   "cell_type": "code",
   "source": [
    "# Create a DataFrame with the required columns\n",
    "import pandas as pd\n",
    "data = {\n",
    "    'compound_id': list(compound_id_to_iso_idx.keys()),\n",
    "    'num_recognized_nodes': [num_recognized_nodes(graph) for graph in rban_graphs_filtered],\n",
    "    'iso_class_idx': list(compound_id_to_iso_idx.values())\n",
    "}\n",
    "df = pd.DataFrame(data)\n",
    "# Save the DataFrame to a TSV file\n",
    "df.to_csv('./nerpa_results_pnrpdb2_vs_mibig34/rban_graphs_filtered.tsv', sep='\\t', index=False)"
   ],
   "id": "a862724779ed6b8b",
   "outputs": [],
   "execution_count": 9
  },
  {
   "metadata": {
    "ExecuteTime": {
     "end_time": "2025-06-07T19:56:17.256190Z",
     "start_time": "2025-06-07T19:56:17.253947Z"
    }
   },
   "cell_type": "code",
   "source": "",
   "id": "8cf8a01374ea3f77",
   "outputs": [],
   "execution_count": null
  }
 ],
 "metadata": {
  "kernelspec": {
   "display_name": "Python 3",
   "language": "python",
   "name": "python3"
  },
  "language_info": {
   "codemirror_mode": {
    "name": "ipython",
    "version": 2
   },
   "file_extension": ".py",
   "mimetype": "text/x-python",
   "name": "python",
   "nbconvert_exporter": "python",
   "pygments_lexer": "ipython2",
   "version": "2.7.6"
  }
 },
 "nbformat": 4,
 "nbformat_minor": 5
}
